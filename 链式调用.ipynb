{
 "cells": [
  {
   "cell_type": "markdown",
   "metadata": {
    "collapsed": true
   },
   "source": [
    "python函数的链式调用fun()()"
   ]
  },
  {
   "cell_type": "code",
   "execution_count": 19,
   "metadata": {
    "collapsed": false
   },
   "outputs": [
    {
     "name": "stdout",
     "output_type": "stream",
     "text": [
      "4\n"
     ]
    }
   ],
   "source": [
    "def fun1(i):\n",
    "    #print('fun1')\n",
    "    def f(b):\n",
    "            x = b+i\n",
    "            print(x)\n",
    "    return f\n",
    "\n",
    "fun1(1)(3)"
   ]
  },
  {
   "cell_type": "code",
   "execution_count": 10,
   "metadata": {
    "collapsed": false
   },
   "outputs": [
    {
     "name": "stdout",
     "output_type": "stream",
     "text": [
      "this is fun\n",
      "this is _fun\n"
     ]
    }
   ],
   "source": [
    "def fun():\n",
    "  print(\"this is fun\");\n",
    "  def _fun():\n",
    "    print(\"this is _fun\");\n",
    "  return _fun;\n",
    "fun()()"
   ]
  },
  {
   "cell_type": "code",
   "execution_count": 7,
   "metadata": {
    "collapsed": false
   },
   "outputs": [
    {
     "name": "stdout",
     "output_type": "stream",
     "text": [
      "2020-09-15 09:03:26.035\n",
      "20200915090326035\n"
     ]
    }
   ],
   "source": [
    "import time\n",
    "def get_time_stamp():\n",
    "    ct = time.time()\n",
    "    local_time = time.localtime(ct)\n",
    "    data_head = time.strftime(\"%Y-%m-%d %H:%M:%S\", local_time)\n",
    "    data_secs = (ct - int(ct)) * 1000\n",
    "    time_stamp = \"%s.%03d\" % (data_head, data_secs)\n",
    "    print(time_stamp)\n",
    "    stamp = (\"\".join(time_stamp.split()[0].split(\"-\"))+\"\".join(time_stamp.split()[1].split(\":\"))).replace('.', '')\n",
    "    print(stamp)\n",
    " \n",
    "if __name__ == '__main__':\n",
    "    get_time_stamp()"
   ]
  }
 ],
 "metadata": {
  "kernelspec": {
   "display_name": "Python 3",
   "language": "python",
   "name": "python3"
  },
  "language_info": {
   "codemirror_mode": {
    "name": "ipython",
    "version": 3
   },
   "file_extension": ".py",
   "mimetype": "text/x-python",
   "name": "python",
   "nbconvert_exporter": "python",
   "pygments_lexer": "ipython3",
   "version": "3.6.0"
  }
 },
 "nbformat": 4,
 "nbformat_minor": 2
}
