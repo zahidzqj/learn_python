{
 "cells": [
  {
   "cell_type": "code",
   "execution_count": 8,
   "metadata": {
    "collapsed": false
   },
   "outputs": [
    {
     "name": "stdout",
     "output_type": "stream",
     "text": [
      "特征值： [4. 2.]\n",
      "特征向量： [[ 0.70710678  0.70710678]\n",
      " [-0.70710678  0.70710678]]\n",
      "分解： (array([[-0.70710678,  0.70710678],\n",
      "       [ 0.70710678,  0.70710678]]), array([4., 2.]), array([[-0.70710678,  0.70710678],\n",
      "       [ 0.70710678,  0.70710678]]))\n"
     ]
    }
   ],
   "source": [
    "import numpy as np\n",
    "\n",
    "a= np.array([[3,-1],[-1,3]])\n",
    "vlu,vec=np.linalg.eig(a)\n",
    "svd=np.linalg.svd(a)\n",
    "print('特征值：',vlu)\n",
    "print('特征向量：',vec)\n",
    "print('分解：',svd)"
   ]
  },
  {
   "cell_type": "code",
   "execution_count": 15,
   "metadata": {
    "collapsed": false
   },
   "outputs": [
    {
     "name": "stdout",
     "output_type": "stream",
     "text": [
      "患癌症条件概率： 0.08715596330275223\n"
     ]
    }
   ],
   "source": [
    "pac = 0.95\n",
    "pAC = 0.95\n",
    "paC = 1-pAC\n",
    "pc = 0.005\n",
    "pC = 1-pc\n",
    "pca=pac*pc/(pac*pc+pC*paC)\n",
    "print('患癌症条件概率：',pca)"
   ]
  },
  {
   "cell_type": "code",
   "execution_count": 34,
   "metadata": {
    "collapsed": false
   },
   "outputs": [
    {
     "name": "stdout",
     "output_type": "stream",
     "text": [
      "升序排列为： [2, 2, 3, 4, 5, 6, 22, 25, 33, 35, 54, 67]\n",
      "降序排列为： [67, 54, 35, 33, 25, 22, 6, 5, 4, 3, 2, 2]\n"
     ]
    }
   ],
   "source": [
    "li = [2,3,4,6,54,5,35,33,22,2,25,67]\n",
    "li=sorted(li)\n",
    "print('升序排列为：',li)\n",
    "li=sorted(li,reverse=1)\n",
    "print('降序排列为：',li)"
   ]
  },
  {
   "cell_type": "code",
   "execution_count": 32,
   "metadata": {
    "collapsed": false
   },
   "outputs": [
    {
     "name": "stdout",
     "output_type": "stream",
     "text": [
      "该链表无环\n",
      "该链表有环\n"
     ]
    }
   ],
   "source": [
    "# 链表有环\n",
    "#思路：链表最后节点的指针，指向第一个节点，或者最后的节点的指针不为空\n",
    "\n",
    "class IntList:\n",
    "\tdef __init__(self, first, rest):\n",
    "\t\tself.first = first\n",
    "\t\tself.rest = rest\n",
    "\n",
    "l = IntList(5,None)#无环\n",
    "l = IntList(10,l)\n",
    "l = IntList(15,l)\n",
    "# print(l.first)#l1.first\n",
    "# print(l.rest.first)#l2.first\n",
    "# print(l.rest.rest.rest)#l3.first\n",
    "if l.rest.rest.rest==None:\n",
    "    print('该链表无环')\n",
    "else:\n",
    "    print('该链表有环')\n",
    "\n",
    "\n",
    "l1= IntList(5,l)#无环\n",
    "l1 = IntList(10,l1)\n",
    "l1 = IntList(15,l1)\n",
    "# print(l.first)#l1.first\n",
    "# print(l.rest.first)#l2.first\n",
    "# print(l.rest.rest.rest)#l3.first\n",
    "if l1.rest.rest.rest==None:\n",
    "    print('该链表无环')\n",
    "else:\n",
    "    print('该链表有环')"
   ]
  }
 ],
 "metadata": {
  "kernelspec": {
   "display_name": "Python 3",
   "language": "python",
   "name": "python3"
  },
  "language_info": {
   "codemirror_mode": {
    "name": "ipython",
    "version": 3
   },
   "file_extension": ".py",
   "mimetype": "text/x-python",
   "name": "python",
   "nbconvert_exporter": "python",
   "pygments_lexer": "ipython3",
   "version": "3.6.0"
  }
 },
 "nbformat": 4,
 "nbformat_minor": 2
}
