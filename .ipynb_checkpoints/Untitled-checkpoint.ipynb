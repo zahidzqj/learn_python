{
 "cells": [
  {
   "cell_type": "code",
   "execution_count": 5,
   "metadata": {
    "collapsed": false
   },
   "outputs": [
    {
     "name": "stderr",
     "output_type": "stream",
     "text": [
      "usage: __main__.py [-h] [--input INPUT] [--num NUM]\n",
      "__main__.py: error: unrecognized arguments: -f C:\\Users\\sister\\AppData\\Roaming\\jupyter\\runtime\\kernel-d62afb3f-613e-479a-8a75-a5cf5352c1ae.json\n"
     ]
    },
    {
     "ename": "SystemExit",
     "evalue": "2",
     "output_type": "error",
     "traceback": [
      "An exception has occurred, use %tb to see the full traceback.\n",
      "\u001b[0;31mSystemExit\u001b[0m\u001b[0;31m:\u001b[0m 2\n"
     ]
    },
    {
     "name": "stderr",
     "output_type": "stream",
     "text": [
      "D:\\zahid\\Anaconda3\\lib\\site-packages\\IPython\\core\\interactiveshell.py:2889: UserWarning: To exit: use 'exit', 'quit', or Ctrl-D.\n",
      "  warn(\"To exit: use 'exit', 'quit', or Ctrl-D.\", stacklevel=1)\n"
     ]
    }
   ],
   "source": [
    "import argparse\n",
    "\n",
    "def argparse_args():\n",
    "\t# 创建对象\n",
    " \tparser = argparse.ArgumentParser()\n",
    " \tparser.add_argument('--input', default='./tooff', type=str,help='input dir')\n",
    " \tparser.add_argument('--num',default = 10, type = int, help = 'file number')\n",
    " \treturn parser.parse_args()\n",
    "\n",
    "def main(args):\n",
    "\tpath = args.input\n",
    "\tprint('default input',path)\n",
    "\t\n",
    "\t\n",
    "if __name__ == '__main__':\n",
    "\tmain(argparse_args())"
   ]
  },
  {
   "cell_type": "code",
   "execution_count": 7,
   "metadata": {
    "collapsed": false
   },
   "outputs": [
    {
     "data": {
      "text/plain": [
       "[2, 1, 3]"
      ]
     },
     "execution_count": 7,
     "metadata": {},
     "output_type": "execute_result"
    }
   ],
   "source": [
    "a= [2,1,3]\n",
    "# a.sort()\n",
    "b=sorted(a)\n",
    "a"
   ]
  },
  {
   "cell_type": "code",
   "execution_count": 17,
   "metadata": {
    "collapsed": false
   },
   "outputs": [
    {
     "name": "stdout",
     "output_type": "stream",
     "text": [
      "当前路径： \n",
      "工作路径： D:\\document\\learn_python\n",
      "default input: ./tooff\n",
      "查看所有子目录： ['11二进制数中1的个数.py', '12数值的整数次方.py', '13调整数组顺序奇数在偶数前.py', '1二维数组中的查找.py', '28数组中出现次数过半.py', '2替换空格.py', '31整数中出现1的次数.py', '32从小到大排列.py', '33丑数.py', '7斐波那契.py', '8跳台阶.py', 'tooffer.md', '成绩.py', '求子集.py']\n",
      "根目录： ./tooff\n",
      "子目录： []\n",
      "子文件： ['11二进制数中1的个数.py', '12数值的整数次方.py', '13调整数组顺序奇数在偶数前.py', '1二维数组中的查找.py', '28数组中出现次数过半.py', '2替换空格.py', '31整数中出现1的次数.py', '32从小到大排列.py', '33丑数.py', '7斐波那契.py', '8跳台阶.py', 'tooffer.md', '成绩.py', '求子集.py']\n",
      "返回程序的参数 ['D:\\\\zahid\\\\Anaconda3\\\\lib\\\\site-packages\\\\ipykernel\\\\__main__.py', '-f', 'C:\\\\Users\\\\sister\\\\AppData\\\\Roaming\\\\jupyter\\\\runtime\\\\kernel-671cb9c7-5bed-4429-bc52-c40b3c910c18.json']\n",
      "返回绝对路径： D:\\zahid\\Anaconda3\\lib\\site-packages\\ipykernel\\__main__.py\n",
      "获取符合匹配的文件路径： []\n"
     ]
    }
   ],
   "source": [
    "import sys\n",
    "import os\n",
    "path = './tooff'\n",
    "print('当前路径：',sys.path[0])\n",
    "print('工作路径：',os.getcwd())\n",
    "print('default input:',path)\n",
    "list_subdir = os.listdir(path)\n",
    "print('查看所有子目录：',list_subdir)\n",
    "# for dir_name in list_subdir:\n",
    "# \tfile_join = os.path.join(path,dir_name)\n",
    "# \tprint('遍历所有子目录',file_join)\n",
    "\n",
    "#遍历文件夹中的子文件夹以及文件，先返回\n",
    "for root,dirs,files in os.walk(path):\n",
    "    print('根目录：',root)\n",
    "    print('子目录：',dirs)\n",
    "    print('子文件：',files)\n",
    "\n",
    "print('返回程序的参数',sys.argv)#[0]返回文件路径加文件名字\n",
    "print('返回绝对路径：',os.path.abspath(sys.argv[0]))\n",
    "\n",
    "search_files = glob.glob(os.path.join(path,'*.jpg'))\n",
    "print('获取符合匹配的文件路径：',search_files)"
   ]
  },
  {
   "cell_type": "code",
   "execution_count": 12,
   "metadata": {
    "collapsed": false
   },
   "outputs": [
    {
     "name": "stdout",
     "output_type": "stream",
     "text": [
      "获取符合匹配的文件： ['./tooff\\\\11二进制数中1的个数.py', './tooff\\\\12数值的整数次方.py', './tooff\\\\13调整数组顺序奇数在偶数前.py', './tooff\\\\1二维数组中的查找.py', './tooff\\\\28数组中出现次数过半.py', './tooff\\\\2替换空格.py', './tooff\\\\31整数中出现1的次数.py', './tooff\\\\32从小到大排列.py', './tooff\\\\33丑数.py', './tooff\\\\7斐波那契.py', './tooff\\\\8跳台阶.py', './tooff\\\\成绩.py', './tooff\\\\求子集.py']\n"
     ]
    }
   ],
   "source": [
    "import glob\n",
    "#获取指定目录下符合特定规则的文件路径名\n",
    "search_files = glob.glob(os.path.join(path, '*.py'))#('dir/*.py')\n",
    "print('获取符合匹配的文件：',search_files)"
   ]
  },
  {
   "cell_type": "code",
   "execution_count": 18,
   "metadata": {
    "collapsed": false
   },
   "outputs": [
    {
     "data": {
      "text/plain": [
       "WindowsPath('D:/document/learn_python')"
      ]
     },
     "execution_count": 18,
     "metadata": {},
     "output_type": "execute_result"
    }
   ],
   "source": [
    "from pathlib import Path\n",
    "p=os.getcwd()\n",
    "p = Path(p)\n",
    "p"
   ]
  },
  {
   "cell_type": "code",
   "execution_count": 12,
   "metadata": {
    "collapsed": false
   },
   "outputs": [
    {
     "name": "stdout",
     "output_type": "stream",
     "text": [
      "(array([1, 2, 3], dtype=int64),)\n",
      "[2 3 2]\n"
     ]
    },
    {
     "data": {
      "text/plain": [
       "array([1, 2, 0], dtype=int64)"
      ]
     },
     "execution_count": 12,
     "metadata": {},
     "output_type": "execute_result"
    }
   ],
   "source": [
    "import numpy as np\n",
    "#返回条件值索引\n",
    "aa = np.array([1,2,3,2])\n",
    "rr = np.where(aa>=2)\n",
    "print(rr)\n",
    "print(aa[rr])\n",
    "# 返回的是数组值从小到大的索引值 再倒序\n",
    "aa[rr].argsort()[::-1][:5]"
   ]
  },
  {
   "cell_type": "code",
   "execution_count": null,
   "metadata": {
    "collapsed": true
   },
   "outputs": [],
   "source": []
  }
 ],
 "metadata": {
  "kernelspec": {
   "display_name": "Python 3",
   "language": "python",
   "name": "python3"
  },
  "language_info": {
   "codemirror_mode": {
    "name": "ipython",
    "version": 3
   },
   "file_extension": ".py",
   "mimetype": "text/x-python",
   "name": "python",
   "nbconvert_exporter": "python",
   "pygments_lexer": "ipython3",
   "version": "3.6.0"
  }
 },
 "nbformat": 4,
 "nbformat_minor": 2
}
