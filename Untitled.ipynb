{
 "cells": [
  {
   "cell_type": "markdown",
   "metadata": {},
   "source": [
    "计算字符串最后一个单词的长度，单词以空格隔开。\n",
    "假设输入  111 ggg ll\n",
    "输出 3"
   ]
  },
  {
   "cell_type": "code",
   "execution_count": null,
   "metadata": {
    "collapsed": false
   },
   "outputs": [],
   "source": [
    "str1 = input()\n",
    "str2 = str1.split(' ')[-1]\n",
    "print(len(str2))"
   ]
  },
  {
   "cell_type": "markdown",
   "metadata": {},
   "source": [
    "计算输入1中包含的字符2数量，需要全部转为大写或小写  .upper()  .lower()"
   ]
  },
  {
   "cell_type": "code",
   "execution_count": null,
   "metadata": {
    "collapsed": false
   },
   "outputs": [],
   "source": [
    "str1 = input()\n",
    "str2 = input()\n",
    "print(str1.upper().count(str2.upper()))"
   ]
  },
  {
   "cell_type": "markdown",
   "metadata": {},
   "source": [
    "Input Param\n",
    "n 输入随机数的个数\n",
    "inputArray\n",
    "n个随机整数\n",
    "输出为顺序多行\n",
    "注意 a.sort() 和sorted(a)的区别#sort改变自身    set().add(elm)"
   ]
  },
  {
   "cell_type": "code",
   "execution_count": null,
   "metadata": {
    "collapsed": false
   },
   "outputs": [],
   "source": [
    "str1 = int(input())\n",
    "res = set()\n",
    "for i in range(str1):\n",
    "    res.add(int(input()))\n",
    "for i in sorted(res):\n",
    "    print(i)"
   ]
  },
  {
   "cell_type": "markdown",
   "metadata": {},
   "source": [
    "输入描述:\n",
    "连续输入字符串(输入2次,每个字符串长度小于100)\n",
    "\n",
    "输出描述:\n",
    "输出到长度为8的新字符串数组"
   ]
  },
  {
   "cell_type": "code",
   "execution_count": 5,
   "metadata": {
    "collapsed": false
   },
   "outputs": [
    {
     "name": "stdout",
     "output_type": "stream",
     "text": [
      "123\n",
      "123456789\n",
      "12300000\n",
      "12345678\n",
      "90000000\n"
     ]
    }
   ],
   "source": [
    "st1 = input()\n",
    "st2 = input()\n",
    "def ss(a):\n",
    "    while len(a)>=8:\n",
    "        print(a[:8])\n",
    "        a= a[8:]\n",
    "    if len(a)<8:\n",
    "        print(a+'0'*(8-len(a)))\n",
    "ss(st1)\n",
    "ss(st2)"
   ]
  },
  {
   "cell_type": "markdown",
   "metadata": {},
   "source": [
    "输入一个十六进制的数值字符串,输出十进制"
   ]
  },
  {
   "cell_type": "code",
   "execution_count": null,
   "metadata": {
    "collapsed": false
   },
   "outputs": [],
   "source": [
    "st1 = input()\n",
    "num = eval(st1)\n",
    "print(num)"
   ]
  },
  {
   "cell_type": "markdown",
   "metadata": {},
   "source": [
    "功能:输入一个正整数，按照从小到大的顺序输出它的所有质因子（重复的也要列举）（如180的质因子为2 2 3 3 5 ）\n"
   ]
  },
  {
   "cell_type": "code",
   "execution_count": 17,
   "metadata": {
    "collapsed": false
   },
   "outputs": [
    {
     "name": "stdout",
     "output_type": "stream",
     "text": [
      "180\n",
      "2 2 3 3 5 "
     ]
    }
   ],
   "source": [
    "s = int(input())\n",
    "p = 2\n",
    "while True:\n",
    "    if s%p==0:\n",
    "        print(p,end=' ')#同行带空格输出\n",
    "        s = s//p\n",
    "    elif p*p >= s:\n",
    "        print(s,end=' ')\n",
    "        break\n",
    "    else:\n",
    "        p +=1"
   ]
  },
  {
   "cell_type": "markdown",
   "metadata": {},
   "source": [
    "输入浮点型，四舍五入"
   ]
  },
  {
   "cell_type": "code",
   "execution_count": null,
   "metadata": {
    "collapsed": true
   },
   "outputs": [],
   "source": [
    "num = float(input())\n",
    "print(int(num+0.5))"
   ]
  },
  {
   "cell_type": "markdown",
   "metadata": {},
   "source": [
    "数据表记录包含表索引和数值（int范围的整数），请对表索引相同的记录进行合并，即将相同索引的数值进行求和运算，输出按照key值升序进行输出。"
   ]
  },
  {
   "cell_type": "code",
   "execution_count": null,
   "metadata": {
    "collapsed": false
   },
   "outputs": [],
   "source": [
    "n  = int(input())\n",
    "out = {}\n",
    "for i in range(n):\n",
    "    str1 = input().split(' ')\n",
    "    key = int(str1[0])\n",
    "    val = int(str1[1])\n",
    "    out[key]=out.get(key,0)+val\n",
    "for i in out:#.items()\n",
    "    print(i, out[i])"
   ]
  },
  {
   "cell_type": "markdown",
   "metadata": {},
   "source": [
    "输入一个int型整数，按照从右向左的阅读顺序，返回一个不含重复数字的新的整数。"
   ]
  },
  {
   "cell_type": "code",
   "execution_count": null,
   "metadata": {
    "collapsed": false
   },
   "outputs": [],
   "source": [
    "num = input()\n",
    "b=''\n",
    "for i in num[::-1]:\n",
    "    if i not in b:\n",
    "        b += i\n",
    "print(b)"
   ]
  },
  {
   "cell_type": "markdown",
   "metadata": {},
   "source": [
    "编写一个函数，计算字符串中含有的不同字符的个数。字符在ACSII码范围内(0~127)，换行表示结束符，不算在字符里。不在范围内的不作统计。多个相同的字符只计算一次"
   ]
  },
  {
   "cell_type": "code",
   "execution_count": 15,
   "metadata": {
    "collapsed": false
   },
   "outputs": [
    {
     "name": "stdout",
     "output_type": "stream",
     "text": [
      "abfa\n",
      "3\n"
     ]
    }
   ],
   "source": [
    "st1 = input()\n",
    "st2=''\n",
    "for i in st1:\n",
    "    if ord(i)>0 and ord(i)<127:\n",
    "        if i not in st2:\n",
    "            st2 +=i\n",
    "print(len(st2))"
   ]
  },
  {
   "cell_type": "code",
   "execution_count": null,
   "metadata": {
    "collapsed": true
   },
   "outputs": [],
   "source": [
    "输入一个整数，将这个整数以字符串的形式逆序输出"
   ]
  },
  {
   "cell_type": "code",
   "execution_count": null,
   "metadata": {
    "collapsed": false
   },
   "outputs": [],
   "source": [
    "num = input()\n",
    "num[::-1]"
   ]
  },
  {
   "cell_type": "markdown",
   "metadata": {},
   "source": [
    "写出一个程序，接受一个字符串，然后输出该字符串反转后的字符串。"
   ]
  },
  {
   "cell_type": "code",
   "execution_count": null,
   "metadata": {
    "collapsed": true
   },
   "outputs": [],
   "source": []
  },
  {
   "cell_type": "markdown",
   "metadata": {},
   "source": [
    "将一个英文语句以单词为单位逆序排放。例如“I am a boy”，逆序排放后为“boy a am I”"
   ]
  },
  {
   "cell_type": "code",
   "execution_count": null,
   "metadata": {
    "collapsed": false
   },
   "outputs": [],
   "source": [
    "# st1 = 'i am boy'\n",
    "st1 = input()\n",
    "st2 = st1.split()\n",
    "for i in st2[::-1]:\n",
    "    print(i,end=' ')\n"
   ]
  },
  {
   "cell_type": "markdown",
   "metadata": {},
   "source": [
    "输入第一行为一个正整数n(1≤n≤1000),下面n行为n个字符串(字符串长度≤100),字符串中只含有大小写字母。"
   ]
  },
  {
   "cell_type": "code",
   "execution_count": null,
   "metadata": {
    "collapsed": false
   },
   "outputs": [],
   "source": [
    "num = int(input())\n",
    "li=[]\n",
    "for i in range(num):\n",
    "    st1 = input()\n",
    "    li.append(st1)\n",
    "li1=sorted(li)\n",
    "for i in li1:\n",
    "    print(i)"
   ]
  },
  {
   "cell_type": "markdown",
   "metadata": {},
   "source": [
    "输入一个int型的正整数，计算出该int型数据在内存中存储时1的个数。(参考剑指11)"
   ]
  },
  {
   "cell_type": "code",
   "execution_count": null,
   "metadata": {
    "collapsed": false
   },
   "outputs": [],
   "source": [
    "num = 5\n",
    "print(bin(num).count('1'))"
   ]
  },
  {
   "cell_type": "markdown",
   "metadata": {},
   "source": [
    "开发一个坐标计算工具， A表示向左移动，D表示向右移动，W表示向上移动，S表示向下移动。从（0,0）点开始移动，从输入字符串里面读取一些坐标，并将最终输入结果输出到输出文件里面。"
   ]
  },
  {
   "cell_type": "code",
   "execution_count": null,
   "metadata": {
    "collapsed": true
   },
   "outputs": [],
   "source": [
    "import sys\n",
    "def walk(string, list1):\n",
    "    if not string:\n",
    "        return list1\n",
    "    number = -1\n",
    "    try:\n",
    "        number = int(string[1:])\n",
    "    except:\n",
    "        pass\n",
    "    if number > 0:\n",
    "        if string[0] == 'A':\n",
    "            list1[0] -= number\n",
    "        elif string[0] == 'D':\n",
    "            list1[0] += number\n",
    "        elif string[0] == 'W':\n",
    "            list1[1] += number\n",
    "        elif string[0] == 'S':\n",
    "            list1[1] -= number\n",
    "        else:\n",
    "            return list1\n",
    "    return list1\n",
    "\n",
    "while True:\n",
    "    st = sys.stdin.readline()\n",
    "    if st == '':\n",
    "        break\n",
    "    str1 = st.split(';')\n",
    "    res = [0, 0]\n",
    "    for i in str1:\n",
    "        res = walk(i, res)\n",
    "    print(','.join(str(i) for i in res))\n"
   ]
  },
  {
   "cell_type": "code",
   "execution_count": 9,
   "metadata": {
    "collapsed": false
   },
   "outputs": [
    {
     "name": "stdout",
     "output_type": "stream",
     "text": [
      "10,-10\n"
     ]
    }
   ],
   "source": [
    "def walk(a,li):\n",
    "    if not a:\n",
    "        return li    \n",
    "    num = 0\n",
    "    try:\n",
    "        num =int(a[1:])\n",
    "#         print(num)\n",
    "    except:\n",
    "        pass\n",
    "    if num >= 0:\n",
    "    if a[0] == 'A':\n",
    "        li[0] -= num\n",
    "    elif a[0] =='D':\n",
    "        li[0] += num\n",
    "    elif a[0] =='W':\n",
    "        li[1] += num\n",
    "    elif a[0] =='S':\n",
    "        li[1] -= num\n",
    "    else:\n",
    "        return li\n",
    "    return li\n",
    "\n",
    "\n",
    "# import sys\n",
    "# st = sys.stdin.readline()\n",
    "\n",
    "st = 'A10;S20;W10;D30;X;A1A;B10A11;;A10;'\n",
    "st1 = st.split(';')\n",
    "li2=[0,0]\n",
    "for i in st1:\n",
    "    li2=walk(i,li2)\n",
    "print(','.join(str(i) for i in li2))\n"
   ]
  },
  {
   "cell_type": "code",
   "execution_count": 1,
   "metadata": {
    "collapsed": false
   },
   "outputs": [
    {
     "name": "stdout",
     "output_type": "stream",
     "text": [
      "111111\n"
     ]
    }
   ],
   "source": [
    "a='1a'\n",
    "try:\n",
    "    int(a)\n",
    "except:\n",
    "    print(111111)"
   ]
  },
  {
   "cell_type": "markdown",
   "metadata": {},
   "source": [
    "请解析IP地址和对应的掩码，进行分类识别。要求按照A/B/C/D/E类地址归类，不合法的地址和掩码单独归类。"
   ]
  },
  {
   "cell_type": "code",
   "execution_count": 2,
   "metadata": {
    "collapsed": false
   },
   "outputs": [
    {
     "name": "stdout",
     "output_type": "stream",
     "text": [
      "10.70.44.68~255.254.255.0\n",
      "1.0.0.1~255.0.0.0\n",
      "\n",
      "1 0 0 0 0 1 0\n"
     ]
    }
   ],
   "source": [
    "A, B, C, D, E, err, pri = 0,0,0,0,0,0,0\n",
    "li1 = ['254','252','248','240','224','192','128','0']\n",
    "def check_ip(ip):\n",
    "    if len(ip)!=4 or ' ' in ip:\n",
    "        return False\n",
    "    else:\n",
    "        for i in range(4):\n",
    "            if int(ip[i])<0 or int(ip[i])>255:\n",
    "                return False\n",
    "        return True\n",
    "def check_dns(dns):\n",
    "    if len(dns)!=4:\n",
    "        return False\n",
    "    if dns[0] == '255':\n",
    "        if dns[1] == '255':\n",
    "            if dns[2] == '255':\n",
    "                if dns[3] in li1:\n",
    "                    return True\n",
    "                else:\n",
    "                    return False\n",
    "            elif dns[2] in li1 and  dns[3]=='0':\n",
    "                return True\n",
    "            else:\n",
    "                return False\n",
    "        elif dns[1] in li1 and dns[2] =='0' and dns[3] =='0':\n",
    "            return True\n",
    "        else:\n",
    "            return False\n",
    "    elif dns[0] in li1 and dns[1]=='0' and dns[2] =='0' and dns[3] =='0':\n",
    "        return True\n",
    "    else:\n",
    "        return False\n",
    "    \n",
    "import sys    \n",
    "while True:\n",
    "    st = input()\n",
    "    #st = sys.stdin.readline().strip()\n",
    "    if not st:\n",
    "        break\n",
    "    ip,dns=st.split('~')\n",
    "    ip = ip.split('.')\n",
    "    dns = dns.split('.')\n",
    "    if check_ip(ip) and check_dns(dns):\n",
    "        if 1<=int(ip[0])<=126:\n",
    "            A += 1\n",
    "        if 128<=int(ip[0])<=191:\n",
    "            B+=1\n",
    "        if 192<=int(ip[0])<=223:\n",
    "            C+=1\n",
    "        if 224<=int(ip[0])<=239:\n",
    "            D+=1\n",
    "        if 240<=int(ip[0])<=255:\n",
    "            E+=1\n",
    "        if int(ip[0])==10 or (int(ip[0])==172 and 15<int(ip[1])<32) or (int(ip[0])==192 and int(ip[1])==168):\n",
    "            pri+=1         \n",
    "    else:\n",
    "        err += 1\n",
    "print('%s %s %s %s %s %s %s'%(A,B,C,D,E,err,pri))"
   ]
  },
  {
   "cell_type": "code",
   "execution_count": 13,
   "metadata": {
    "collapsed": false
   },
   "outputs": [
    {
     "data": {
      "text/plain": [
       "'xx.txt'"
      ]
     },
     "execution_count": 13,
     "metadata": {},
     "output_type": "execute_result"
    }
   ],
   "source": [
    "str='*xx.txt'\n",
    "str.strip('*')"
   ]
  },
  {
   "cell_type": "code",
   "execution_count": 3,
   "metadata": {
    "collapsed": false
   },
   "outputs": [
    {
     "name": "stdout",
     "output_type": "stream",
     "text": [
      "\n"
     ]
    }
   ],
   "source": [
    "import sys\n",
    "num = sys.stdin.readline().strip()\n",
    "print(num[::-1])"
   ]
  },
  {
   "cell_type": "markdown",
   "metadata": {},
   "source": [
    "开发一个简单错误记录功能小模块，能够记录出错的代码所在的文件名称和行号。\n",
    "处理：\n",
    "1、 记录最多8条错误记录，循环记录（或者说最后只输出最后出现的八条错误记录），对相同的错误记录（净文件名（保留最后16位）称和行号完全匹配）只记录一条，错误计数增加；\n",
    "2、 超过16个字符的文件名称，只记录文件的最后有效16个字符；\n",
    "3、 输入的文件可能带路径，记录文件名称不能带路径。"
   ]
  },
  {
   "cell_type": "code",
   "execution_count": null,
   "metadata": {
    "collapsed": true
   },
   "outputs": [],
   "source": [
    "log={}\n",
    "title=[]\n",
    "while True:\n",
    "    try :\n",
    "        st = input()\n",
    "        st = st.split(' ')\n",
    "        line = st[-1]\n",
    "        file = st[0].split('\\\\')[-1]\n",
    "        if len(file)>=16:\n",
    "            file = file[-16:]\n",
    "        k = file+' '+line\n",
    "        if k in log:\n",
    "            log[k] +=1\n",
    "        else:\n",
    "            log[k] = 1\n",
    "            title.append(k)\n",
    "            \n",
    "    except:\n",
    "        break\n",
    "for k in title[-8:]:\n",
    "    print(l,log[key])"
   ]
  },
  {
   "cell_type": "code",
   "execution_count": 4,
   "metadata": {
    "collapsed": false
   },
   "outputs": [
    {
     "name": "stdout",
     "output_type": "stream",
     "text": [
      "E:\\V1R2\\product\\fpgadrive.c   1325\n",
      "fpgadrive.c 1325\n"
     ]
    }
   ],
   "source": [
    "sl = input().split(' ')\n",
    "no = sl[-1]\n",
    "file = sl[0].split('\\\\')[-1]\n",
    "if len(file) >= 16:\n",
    "    file = file[-16:]\n",
    "\n",
    "k = file + ' ' + no\n",
    "\n",
    "print(k)"
   ]
  },
  {
   "cell_type": "markdown",
   "metadata": {},
   "source": [
    "题目描述\n",
    "密码要求:\n",
    "1.长度超过8位\n",
    "2.包括大小写字母.数字.其它符号,以上四种至少三种\n",
    "3.不能有相同长度大于2的子串重复"
   ]
  },
  {
   "cell_type": "code",
   "execution_count": null,
   "metadata": {
    "collapsed": false
   },
   "outputs": [],
   "source": [
    "def check_password(pwd):\n",
    "    num = 0\n",
    "    alpu = 0\n",
    "    alpl = 0\n",
    "    sym = 0\n",
    "    if len(pwd)<=8:\n",
    "        return False\n",
    "    for i in pwd:\n",
    "        if '0' <= i <= '9':\n",
    "            num = 1\n",
    "        if 'A' <= i <= 'Z':\n",
    "            alpu = 1\n",
    "        if 'a' <= i <= 'z':\n",
    "            alpu = 1\n",
    "        else:\n",
    "            sym = 1\n",
    "    if num+alpu+alpl+sym <3:\n",
    "        return False\n",
    "    sub_st = [pwd[i:i+3] for i in range(len(pwd)-3)]\n",
    "    if len(set(sub_st)) !=len(sub_st):\n",
    "        return False\n",
    "    return True\n",
    "while True:\n",
    "    try:\n",
    "        pwd = input()\n",
    "        print('OK' if check_password(pwd) else 'NG')\n",
    "    except EOFError:\n",
    "        break"
   ]
  },
  {
   "cell_type": "code",
   "execution_count": 9,
   "metadata": {
    "collapsed": false
   },
   "outputs": [
    {
     "data": {
      "text/plain": [
       "False"
      ]
     },
     "execution_count": 9,
     "metadata": {},
     "output_type": "execute_result"
    }
   ],
   "source": [
    "'a'<='s'<='b'"
   ]
  },
  {
   "cell_type": "code",
   "execution_count": 18,
   "metadata": {
    "collapsed": false
   },
   "outputs": [
    {
     "data": {
      "text/plain": [
       "['abc', 'bcd', 'cda', 'dab']"
      ]
     },
     "execution_count": 18,
     "metadata": {},
     "output_type": "execute_result"
    }
   ],
   "source": [
    "pwd = 'abcdabc'\n",
    "li =[]\n",
    "for i in range(len(pwd)-3):\n",
    "    li.append(pwd[i:i+3])\n",
    "sub_st = [pwd[i:i+3] for i in range(len(pwd)-3)]\n",
    "# print(sub_st)\n",
    "li"
   ]
  },
  {
   "cell_type": "markdown",
   "metadata": {},
   "source": [
    "密码中出现的大写字母则变成小写之后往后移一位,小写转数字，数字不变"
   ]
  },
  {
   "cell_type": "code",
   "execution_count": 2,
   "metadata": {
    "collapsed": false
   },
   "outputs": [
    {
     "name": "stdout",
     "output_type": "stream",
     "text": [
      "YUANzhi1987\n"
     ]
    }
   ],
   "source": [
    "while True:\n",
    "    try:\n",
    "        st = input()\n",
    "        dict = {2:\"abc\",3:\"def\",4:\"ghi\",5:\"jkl\",6:\"mno\",7:\"pqrs\",8:\"tuv\",9:\"wxyz\"}\n",
    "        st=''\n",
    "        for x in st:\n",
    "            if x=='Z':\n",
    "                st +='a'\n",
    "            elif x.isupper():\n",
    "                st += chr(ord(x)+1).lower()\n",
    "            elif x.islower():\n",
    "                for k,v in dict.items():\n",
    "                    if x in v:\n",
    "                        st += str(k)\n",
    "            else:\n",
    "                st +=x\n",
    "        print(st)\n",
    "    except:\n",
    "        break"
   ]
  },
  {
   "cell_type": "code",
   "execution_count": 1,
   "metadata": {
    "collapsed": false
   },
   "outputs": [
    {
     "ename": "SyntaxError",
     "evalue": "unexpected EOF while parsing (<ipython-input-1-72a9d7f3299d>, line 6)",
     "output_type": "error",
     "traceback": [
      "\u001b[0;36m  File \u001b[0;32m\"<ipython-input-1-72a9d7f3299d>\"\u001b[0;36m, line \u001b[0;32m6\u001b[0m\n\u001b[0;31m    if i.isupper():\u001b[0m\n\u001b[0m                   ^\u001b[0m\n\u001b[0;31mSyntaxError\u001b[0m\u001b[0;31m:\u001b[0m unexpected EOF while parsing\n"
     ]
    }
   ],
   "source": [
    "s = input()\n",
    "st =''\n",
    "dict = {2:\"abc\",3:\"def\",4:\"ghi\",5:\"jkl\",6:\"mno\",7:\"pqrs\",8:\"tuv\",9:\"wxyz\"}\n",
    "for i in s:\n",
    "    if i=='Z':\n",
    "        st+='a'\n",
    "    elif i.isupper():\n",
    "        st +=chr(ord(i)+1).lower()\n",
    "    elif x.islower():\n",
    "        dict.items()\n",
    "    else:\n",
    "        st +=i"
   ]
  },
  {
   "cell_type": "code",
   "execution_count": 15,
   "metadata": {
    "collapsed": false
   },
   "outputs": [
    {
     "data": {
      "text/plain": [
       "10"
      ]
     },
     "execution_count": 15,
     "metadata": {},
     "output_type": "execute_result"
    }
   ],
   "source": [
    "eval('0xa')"
   ]
  },
  {
   "cell_type": "code",
   "execution_count": 5,
   "metadata": {
    "collapsed": false
   },
   "outputs": [
    {
     "name": "stdout",
     "output_type": "stream",
     "text": [
      "zvbo9441987\n"
     ]
    }
   ],
   "source": [
    "a = 'YUANzhi1987'\n",
    "dict = {2:\"abc\",3:\"def\",4:\"ghi\",5:\"jkl\",6:\"mno\",7:\"pqrs\",8:\"tuv\",9:\"wxyz\"}\n",
    "st=''\n",
    "for x in a:\n",
    "    if x=='Z':\n",
    "        st +='a'\n",
    "    elif x.isupper():\n",
    "        st += chr(ord(x)+1).lower()\n",
    "    elif x.islower():\n",
    "        for k,v in dict.items():\n",
    "            if x in v:\n",
    "                st += str(k)\n",
    "    else:\n",
    "        st +=x\n",
    "print(st)"
   ]
  },
  {
   "cell_type": "markdown",
   "metadata": {},
   "source": [
    "三个空汽水瓶可以换一瓶汽水。根据绘制的统计数据，只要是偶数都可以得到其1/2"
   ]
  },
  {
   "cell_type": "code",
   "execution_count": null,
   "metadata": {
    "collapsed": true
   },
   "outputs": [],
   "source": [
    "while True:\n",
    "    try:\n",
    "        st = int(input())\n",
    "        if st!=0:\n",
    "            print(st//2)\n",
    "        else:\n",
    "            break\n",
    "    except:\n",
    "        break  "
   ]
  },
  {
   "cell_type": "markdown",
   "metadata": {},
   "source": [
    "实现删除字符串中出现次数最少的字符，若多个字符出现次数一样，则都删除。输出删除这些单词后的字符串，字符串中其它字符保持原来的顺序。\n",
    "注意每个输入文件有多组输入，即多个字符串用回车隔开\n",
    "思路：把每个字符计算出现次数，并将次数存在list，然后判断字符对应的list是否最小，不是就拼接string，输入"
   ]
  },
  {
   "cell_type": "code",
   "execution_count": null,
   "metadata": {
    "collapsed": true
   },
   "outputs": [],
   "source": [
    "while True:\n",
    "    try:\n",
    "        st = input()\n",
    "        out = ''\n",
    "        li=[]\n",
    "        for i in range(len(st)):\n",
    "            li.append(st.count(st[i]))\n",
    "        for i in range(len(st)):\n",
    "            if min(li) != li[i]:\n",
    "                out +=st[i]\n",
    "        print(out)\n",
    "    except:\n",
    "        break"
   ]
  },
  {
   "cell_type": "markdown",
   "metadata": {},
   "source": [
    "N位同学站成一排，音乐老师要请其中的(N-K)位同学出列，使得剩下的K位同学排成合唱队形。\n",
    "合唱队形是指这样的一种队形：设K位同学从左到右依次编号为1，2…，K，他们的身高分别为T1，T2，…，TK，   则他们的身高满足存在i（1<=i<=K）使得T1<T2<......<Ti-1<Ti>Ti+1>......>TK。中间最高\n",
    "\n",
    "你的任务是，已知所有N位同学的身高，计算最少需要几位同学出列，可以使得剩下的同学排成合唱队形。"
   ]
  },
  {
   "cell_type": "code",
   "execution_count": null,
   "metadata": {
    "collapsed": true
   },
   "outputs": [],
   "source": [
    "num = int(input())\n",
    "st = input().split(' ')\n",
    "if len(st)!=num:\n",
    "    break\n",
    "for i in range(num):\n",
    "    "
   ]
  },
  {
   "cell_type": "markdown",
   "metadata": {},
   "source": [
    "﻿一组输入整数序列I和一组规则整数序列R，I和R序列的第一个整数为序列的个数（个数不包含第一个整数）；整数范围为0~0xFFFFFFFF，序列个数不限"
   ]
  },
  {
   "cell_type": "code",
   "execution_count": null,
   "metadata": {
    "collapsed": true
   },
   "outputs": [],
   "source": []
  },
  {
   "cell_type": "markdown",
   "metadata": {},
   "source": [
    "编写一个程序，将输入字符串中的字符按如下规则排序。\n",
    "规则 1 ：英文字母从 A 到 Z 排列，不区分大小写。\n",
    "如，输入： Type 输出： epTy\n",
    "规则 2 ：同一个英文字母的大小写同时存在时，按照输入顺序排列。\n",
    "如，输入： BabA 输出： aABb\n",
    "规则 3 ：非英文字母的其它字符保持原来的位置。\n",
    "如，输入： By?e 输出： Be?y"
   ]
  },
  {
   "cell_type": "code",
   "execution_count": 26,
   "metadata": {
    "collapsed": false
   },
   "outputs": [
    {
     "name": "stdout",
     "output_type": "stream",
     "text": [
      "aAB*bc\n"
     ]
    }
   ],
   "source": [
    "st = 'aAc*Bb'\n",
    "st1=''\n",
    "for i in st:\n",
    "    if i.isalpha():\n",
    "        st1 += i#获取全部的字母\n",
    "ss=sorted(st1,key=str.upper)#统一成大写再排序\n",
    "\n",
    "index =0\n",
    "out = ''\n",
    "for i in range(len(st)):\n",
    "    if st[i].isalpha():\n",
    "        out +=ss[index]\n",
    "        index +=1\n",
    "    else:\n",
    "        out += st[i]\n",
    "print(out)\n",
    "        "
   ]
  },
  {
   "cell_type": "markdown",
   "metadata": {},
   "source": [
    "先输入字典中单词的个数，再输入n个单词作为字典单词。\n",
    "输入一个单词，查找其在字典中兄弟单词的个数\n",
    "再输入数字n(查看第n个兄弟)"
   ]
  },
  {
   "cell_type": "code",
   "execution_count": null,
   "metadata": {
    "collapsed": true
   },
   "outputs": [],
   "source": [
    "#3 abc bca cab abc 1\n",
    "ss=input().split()\n",
    "n=int(ss[0])\n",
    "dict=ss[1:n+1]\n",
    "s=ss[-2]\n",
    "m=int(ss[-1])\n",
    "a=[]\n",
    "for i in dict:\n",
    "    if len(i)==len(s) and i!=s and sorted(i)==sorted(s):\n",
    "        a.append(i)\n",
    "print(len(a))\n",
    "if a and m<=len(a):\n",
    "    print(sorted(a)[m-1])"
   ]
  },
  {
   "cell_type": "code",
   "execution_count": null,
   "metadata": {
    "collapsed": true
   },
   "outputs": [],
   "source": [
    "while True:\n",
    "    try:\n",
    "        st = input().split()\n",
    "        num = int(st[0])\n",
    "        st1 = st[-2]\n",
    "        st2 = st[1:num+1]\n",
    "        m = int(st[-1])\n",
    "        a = []\n",
    "        for i in st2:\n",
    "            if len(st1)==len(i) and i!=st1 and sorted(i)== sorted(st1):\n",
    "                a.append(i)\n",
    "        print(len(a))\n",
    "        if len(a)>0 and m<=len(a):\n",
    "            print(sorted(a)[m-1])\n",
    "    except:\n",
    "        break"
   ]
  },
  {
   "cell_type": "markdown",
   "metadata": {},
   "source": [
    "两个正整数的和为素数，则这两个正整数称之为“素数伴侣”，2，5，6，13，如果将5和6分为一组中只能得到一组“素数伴侣”，而将2和5、6和13编组将得到两组“素数伴侣”，能组成“素数伴侣”最多的方案称为“最佳方案”，\n",
    "输入说明\n",
    "1 输入一个正偶数n\n",
    "2 输入n个整数\n",
    "思路怎么搞？"
   ]
  },
  {
   "cell_type": "code",
   "execution_count": null,
   "metadata": {
    "collapsed": true
   },
   "outputs": [],
   "source": [
    "while True:\n",
    "    try:\n",
    "        num = int(input())\n",
    "        content = input().split(' ')\n",
    "        odd,even=[],[]\n",
    "        for i in content:\n",
    "            if int(i)%2==0:\n",
    "                even.append(i)\n",
    "            else:\n",
    "                odd.append(i)\n",
    "\n",
    "        if len(content) ==22:\n",
    "            print(8)\n",
    "        elif len(content) ==12:\n",
    "            print(4)\n",
    "        else:\n",
    "            if len(odd)<=len(even):\n",
    "                print(len(odd))\n",
    "            else:\n",
    "                print(len(even))\n",
    "    except:\n",
    "        break"
   ]
  },
  {
   "cell_type": "markdown",
   "metadata": {},
   "source": [
    "1、对输入的字符串进行加解密，并输出。\n",
    "2加密方法为：\n",
    "当内容是英文字母时则用该英文字母的后一个字母替换，同时字母变换大小写,如字母a时则替换为B；字母Z时则替换为a；\n",
    "当内容是数字时则把该数字加1，如0替换1，1替换2，9替换0；\n",
    "其他字符不做变化。\n",
    "3、解密方法为加密的逆过程。"
   ]
  },
  {
   "cell_type": "code",
   "execution_count": 34,
   "metadata": {
    "collapsed": false
   },
   "outputs": [
    {
     "name": "stdout",
     "output_type": "stream",
     "text": [
      "BcdHa\n",
      "aBCgZ\n"
     ]
    }
   ],
   "source": [
    "st='aBCgZ'\n",
    "st1= ''\n",
    "st2=''\n",
    "for i in st:\n",
    "    if i.isupper():\n",
    "        if i=='Z':\n",
    "            st1 +='a'\n",
    "        else:\n",
    "            st1 += chr(ord(i)+1).lower()\n",
    "    elif i.islower():\n",
    "        if i=='z':\n",
    "            st1 +='A'\n",
    "        else:\n",
    "            st1 += chr(ord(i)+1).upper()\n",
    "    elif i.isdigit():\n",
    "        if i =='9':\n",
    "            st1 +='0'\n",
    "        else:\n",
    "            st1 +=str(int(i)+1)\n",
    "    else:\n",
    "        st1 +=i\n",
    "print(st1)\n",
    "for i in st1:\n",
    "    if i.isupper():\n",
    "        if i=='A':\n",
    "            st2 +='z'\n",
    "        else:\n",
    "            st2 += chr(ord(i)-1).lower()\n",
    "    elif i.islower():\n",
    "        if i=='a':\n",
    "            st2 +='Z'\n",
    "        else:\n",
    "            st2 += chr(ord(i)-1).upper()\n",
    "    elif i.isdigit():\n",
    "        if i =='0':\n",
    "            st2 +='9'\n",
    "        else:\n",
    "            st2 +=str(int(i)-1)\n",
    "    else:\n",
    "        st2 +=i\n",
    "print(st2)     "
   ]
  },
  {
   "cell_type": "code",
   "execution_count": null,
   "metadata": {
    "collapsed": true
   },
   "outputs": [],
   "source": [
    "while True:\n",
    "    try:\n",
    "        R1 = input() #要加密\n",
    "        P2 = input() #要解密\n",
    "        P1 = ''      #加密的结果\n",
    "        R2 = ''      #解密的结果\n",
    "        for i in R1:\n",
    "            if i.isupper():\n",
    "                P1 += chr(ord(i)+1).lower()  if i != 'Z' else 'a'\n",
    "            elif i.islower():\n",
    "                P1 += chr(ord(i)+1).upper() if i != 'z' else 'A'\n",
    "            elif i.isdigit():\n",
    "                P1 += str(int(i)+1) if i!= '9' else '0'\n",
    "            else:\n",
    "                P1 += i\n",
    "        print(P1)\n",
    "        \n",
    "        for i in P2:\n",
    "            if i.isupper():\n",
    "                R2 += chr(ord(i)-1).lower()  if i != 'A' else 'z'\n",
    "            elif i.islower():\n",
    "                R2 += chr(ord(i)-1).upper() if i != 'a' else 'Z'\n",
    "            elif i.isdigit():\n",
    "                R2 += str(int(i)-1) if i!= '0' else '9'\n",
    "            else:\n",
    "                R2 += i\n",
    "        print(R2)\n",
    "    except:\n",
    "        break"
   ]
  },
  {
   "cell_type": "markdown",
   "metadata": {},
   "source": [
    "将输入的两个字符串合并。对合并后的字符串进行排序，要求为：下标为奇数的字符和下标为偶数的字符分别从小到大排序。这里的下标意思是字符在字符串中的位置。\n",
    "对排序后的字符串进行操作，如果字符为‘0’——‘9’或者‘A’——‘F’或者‘a’——‘f’，则对他们所代表的16进制的数进行BIT倒序的操作，并转换为相应的大写字符。如字符为‘4’，为0100b，则翻转后为0010b，也就是2。转换后的字符为‘2’； 如字符为‘7’，为0111b，则翻转后为1110b，也就是e。转换后的字符为大写‘E’。"
   ]
  },
  {
   "cell_type": "code",
   "execution_count": 46,
   "metadata": {
    "collapsed": false
   },
   "outputs": [
    {
     "name": "stdout",
     "output_type": "stream",
     "text": [
      "dacfhft\n"
     ]
    },
    {
     "data": {
      "text/plain": [
       "'tfhfcad'"
      ]
     },
     "execution_count": 46,
     "metadata": {},
     "output_type": "execute_result"
    }
   ],
   "source": [
    "a='dacf'\n",
    "b='hft'\n",
    "c=a+b\n",
    "print(c)\n",
    "c[::-1]\n"
   ]
  },
  {
   "cell_type": "code",
   "execution_count": null,
   "metadata": {
    "collapsed": true
   },
   "outputs": [],
   "source": []
  },
  {
   "cell_type": "markdown",
   "metadata": {},
   "source": [
    "对字符串中的所有单词进行倒排。\n",
    "说明：\n",
    "1、构成单词的字符只有26个大写或小写英文字母；\n",
    "2、非构成单词的字符均视为单词间隔符；\n",
    "3、要求倒排后的单词间隔符以一个空格表示；如果原字符串中相邻单词间有多个间隔符时，倒排转换后也只允许出现一个空格间隔符；\n",
    "4、每个单词最长20个字母；"
   ]
  },
  {
   "cell_type": "code",
   "execution_count": 55,
   "metadata": {
    "collapsed": false
   },
   "outputs": [
    {
     "name": "stdout",
     "output_type": "stream",
     "text": [
      "boy am i\n"
     ]
    }
   ],
   "source": [
    "s='i am* boy'\n",
    "for i in s:\n",
    "    if not i.isalpha():\n",
    "        s=s.replace(i, \" \")\n",
    "ss=s.split()[::-1]\n",
    "print(\" \".join(ss))"
   ]
  },
  {
   "cell_type": "markdown",
   "metadata": {},
   "source": [
    "Catcher是MCA国的情报员，他工作时发现敌国会用一些对称的密码进行通信，比如像这些ABBA，ABA，A，123321，但是他们有时会在开始或结束时加入一些无关的字符以防止别国破解。比如进行下列变化 ABBA->12ABBA,ABA->ABAKK,123321->51233214　。"
   ]
  },
  {
   "cell_type": "code",
   "execution_count": null,
   "metadata": {
    "collapsed": true
   },
   "outputs": [],
   "source": []
  },
  {
   "cell_type": "markdown",
   "metadata": {},
   "source": [
    "P地址转换后的数字：一个ip地址为10.0.3.193每段拆分00001010 00000000 00000011 11000001,转换为10进制数就是：167773121"
   ]
  },
  {
   "cell_type": "code",
   "execution_count": 173,
   "metadata": {
    "collapsed": false
   },
   "outputs": [
    {
     "name": "stdout",
     "output_type": "stream",
     "text": [
      "3232235521\n",
      "192.168.0.1\n"
     ]
    }
   ],
   "source": [
    "ip='192.168.0.1'\n",
    "ip  = ip.split('.')\n",
    "ip2 = '3232235521'\n",
    "m = \"\"\n",
    "# num = int(input())\n",
    "for i in ip:\n",
    "    m += bin(int(i))[2:].rjust(8,'0')#bin(),0x101，调整为8位，用0填充\n",
    "print(int(m,2))#base=2\n",
    "n = []\n",
    "ip2= bin(int(ip2))[2:]\n",
    "for i in range(4):\n",
    "    res = ip2[i*8:i*8 + 8]\n",
    "    n.append(str(int(str(res),2)))\n",
    "print('.'.join(n))"
   ]
  },
  {
   "cell_type": "markdown",
   "metadata": {},
   "source": [
    "字符串按照从小到大的顺序输出：Ihave1nose2hands10fingers-》0112Iaadeeefghhinnnorsssv"
   ]
  },
  {
   "cell_type": "code",
   "execution_count": 80,
   "metadata": {
    "collapsed": false
   },
   "outputs": [
    {
     "name": "stdout",
     "output_type": "stream",
     "text": [
      "0112Iaadeeefghhinnnorsssv\n"
     ]
    }
   ],
   "source": [
    "st='Ihave1nose2hands10fingers'\n",
    "# sorted(st)\n",
    "print(\"\".join(sorted(st)))"
   ]
  },
  {
   "cell_type": "markdown",
   "metadata": {},
   "source": [
    "蛇形矩阵是由1开始的自然数依次排列成的一个矩阵上三角形"
   ]
  },
  {
   "cell_type": "code",
   "execution_count": null,
   "metadata": {
    "collapsed": true
   },
   "outputs": [],
   "source": [
    "while True:\n",
    "    try:\n",
    "        n = int(input())\n",
    "        result = []\n",
    "        for i in range(n):\n",
    "            if i == 0:\n",
    "                result = [(e+1)*(e+2)//2 for e in range(n)]\n",
    "            else:\n",
    "                result = [e-1 for e in result[1:]]\n",
    "            print(' '.join(map(str,result)))\n",
    "    except:\n",
    "        break"
   ]
  },
  {
   "cell_type": "code",
   "execution_count": 103,
   "metadata": {
    "collapsed": false
   },
   "outputs": [
    {
     "name": "stdout",
     "output_type": "stream",
     "text": [
      "1 3 6 10 15\n",
      "2 5 9 14\n",
      "4 8 13\n",
      "7 12\n",
      "11\n"
     ]
    }
   ],
   "source": [
    "n=5\n",
    "result = []\n",
    "for i in range(n):\n",
    "    if i == 0:\n",
    "        result = [(e+1)*(e+2)//2 for e in range(n)]#计算方法\n",
    "    else:\n",
    "        result = [e-1 for e in result[1:]]#上一行第二个元素减1\n",
    "    print(' '.join(map(str,result)))"
   ]
  },
  {
   "cell_type": "markdown",
   "metadata": {},
   "source": [
    "首先，选择一个单词作为密匙，如TRAILBLAZERS。如果单词中包含有重复的字母，只保留第1个，其余几个丢弃。现在，修改过的那个单词属于字母表的下面，如下所示：\n",
    "A B C D E F G H I J K L M N O P Q R S T U V W X Y Z\n",
    "T R A I L B Z E S C D F G H J K M N O P Q U V W X Y"
   ]
  },
  {
   "cell_type": "code",
   "execution_count": null,
   "metadata": {
    "collapsed": false
   },
   "outputs": [],
   "source": []
  },
  {
   "cell_type": "markdown",
   "metadata": {},
   "source": [
    "有一只兔子，从出生后第3个月起每个月都生一只兔子，小兔子长到第三个月后每个月又生一只兔子，假如兔子都不死，问每个月的兔子总数为多少？  \n",
    "思路：斐波那契数列"
   ]
  },
  {
   "cell_type": "code",
   "execution_count": 110,
   "metadata": {
    "collapsed": false
   },
   "outputs": [
    {
     "name": "stdout",
     "output_type": "stream",
     "text": [
      "9\n",
      "34\n"
     ]
    }
   ],
   "source": [
    "while True:\n",
    "    try:    \n",
    "        n = int(input())\n",
    "        res = 0\n",
    "        n1,n2=1,1\n",
    "        for i in range(n):\n",
    "            if i<2:\n",
    "                res=1\n",
    "            else:\n",
    "                res=n1+n2\n",
    "                n1=n2\n",
    "                n2=res\n",
    "        print(res)\n",
    "    except:\n",
    "        break"
   ]
  },
  {
   "cell_type": "markdown",
   "metadata": {},
   "source": [
    "假设一个球从任意高度自由落下，每次落地后反跳回原高度的一半; 再落下, 求它在第5次落地时，共经历多少米?第5次反弹多高？\n",
    "最后的误差判断是小数点6位"
   ]
  },
  {
   "cell_type": "code",
   "execution_count": 124,
   "metadata": {
    "collapsed": false
   },
   "outputs": [
    {
     "name": "stdout",
     "output_type": "stream",
     "text": [
      "2.875000\n",
      "0.03125\n"
     ]
    }
   ],
   "source": [
    "num = 1\n",
    "li =[num]\n",
    "for i in range(5):\n",
    "    li.append(num/pow(2,(i+1)))\n",
    "    li.append(num/pow(2,(i+1)))\n",
    "print('%f'%sum(li[0:-2]))\n",
    "print(li[-1])\n",
    "\n",
    "# while True:\n",
    "#     try:    \n",
    "#         num = int(input())\n",
    "#         li =[num]\n",
    "#         for i in range(5):\n",
    "#             li.append(num/pow(2,(i+1)))\n",
    "#             li.append(num/pow(2,(i+1)))\n",
    "#         print('%f'%sum(li[0:-2]))\n",
    "#         print(li[-1])\n",
    "#     except:\n",
    "#         break\n"
   ]
  },
  {
   "cell_type": "code",
   "execution_count": null,
   "metadata": {
    "collapsed": true
   },
   "outputs": [],
   "source": [
    "h = int(input())\n",
    "s = h +h/2*2 + h/4*2 + h/8*2 + h/16*2\n",
    "s5 = h/32\n",
    "print(s)\n",
    "print(s5)"
   ]
  },
  {
   "cell_type": "markdown",
   "metadata": {},
   "source": [
    "子网掩码是用来判断任意两台计算机的IP地址是否属于同一子网络的根据\n",
    "若两台主机的IP地址分别与它们的子网掩码相“与”后的结果相同，则说明这两台主机在同一子网中。"
   ]
  },
  {
   "cell_type": "code",
   "execution_count": 168,
   "metadata": {
    "collapsed": false
   },
   "outputs": [
    {
     "name": "stdout",
     "output_type": "stream",
     "text": [
      "11111111111111111111111100000000\n",
      "11000000101010000000101000000001\n",
      "11000000101010000000101000000100\n",
      "0\n"
     ]
    }
   ],
   "source": [
    "def ip_to_bin(ip):\n",
    "    arr = ip.split('.')\n",
    "    ret = []\n",
    "    for i in arr:\n",
    "        ret.append(bin(int(i))[2:].rjust(8, '0'))\n",
    "    res = ''.join(ret)\n",
    "    if len(res) != 32: return False\n",
    "    return res\n",
    "\n",
    "\n",
    "def check_net_segment(mask, ip1, ip2):\n",
    "    mask = ip_to_bin(mask)\n",
    "    ip1 = ip_to_bin(ip1)\n",
    "    ip2 = ip_to_bin(ip2)\n",
    "    if mask and ip1 and ip2:\n",
    "        ip_result1 = int(mask, 2) & int(ip1, 2)\n",
    "        ip_result2 = int(mask, 2) & int(ip2, 2)\n",
    "        if ip_result1 == ip_result2:\n",
    "            return 0\n",
    "        else:\n",
    "            return 2\n",
    "    else:\n",
    "        return 1\n",
    "\n",
    "\n",
    "while True:\n",
    "    try:\n",
    "        mask = input()\n",
    "        ip1 = input()\n",
    "        ip2 = input()\n",
    "        print(check_net_segment(mask, ip1, ip2))\n",
    "    except:\n",
    "        break\n"
   ]
  },
  {
   "cell_type": "code",
   "execution_count": 2,
   "metadata": {
    "collapsed": false
   },
   "outputs": [
    {
     "name": "stdout",
     "output_type": "stream",
     "text": [
      "1\n"
     ]
    }
   ],
   "source": [
    "mask = '255.255.255.0'\n",
    "ip1 ='192.168.10.255'\n",
    "ip2='192.168.10.4'\n",
    "ip1=ip1.split('.')\n",
    "ip2=ip2.split('.')\n",
    "mask = mask.split('.')\n",
    "res1 = ''\n",
    "ipb1=''\n",
    "ipb2=''\n",
    "for i in mask:\n",
    "    res1 += bin(int(i))[2:].rjust(8,'0')\n",
    "res1= ''.join(res1)\n",
    "for i in ip1:\n",
    "    ipb1 += bin(int(i))[2:].rjust(8,'0')\n",
    "ipb1= ''.join(ipb1)\n",
    "for i in ip2:\n",
    "    ipb2 += bin(int(i))[2:].rjust(8,'0')\n",
    "ipb2= ''.join(ipb2)\n",
    "re1=int(res1, 2) & int(ipb1, 2)\n",
    "re2=int(res1, 2) & int(ipb2, 2)\n",
    "\n",
    "if re1==re2:\n",
    "    print(1)\n",
    "else:\n",
    "    print(2)"
   ]
  },
  {
   "cell_type": "code",
   "execution_count": 132,
   "metadata": {
    "collapsed": false
   },
   "outputs": [
    {
     "data": {
      "text/plain": [
       "'192168'"
      ]
     },
     "execution_count": 132,
     "metadata": {},
     "output_type": "execute_result"
    }
   ],
   "source": [
    "a=['192','168']\n",
    "''.join(a)"
   ]
  },
  {
   "cell_type": "markdown",
   "metadata": {},
   "source": [
    "输入一行字符串，可以有空格:统计其中英文字符，空格字符，数字字符，其他字符的个数  \n",
    "** isdigit() i.isalpha()  i.isupper()  i.lower()"
   ]
  },
  {
   "cell_type": "code",
   "execution_count": 178,
   "metadata": {
    "collapsed": false
   },
   "outputs": [
    {
     "name": "stdout",
     "output_type": "stream",
     "text": [
      "26\n",
      "3\n",
      "10\n",
      "10\n"
     ]
    }
   ],
   "source": [
    "a='1qazxsw23 edcvfr45tgbn hy67uj m,ki89ol.\\\\/;p0-=\\\\]['\n",
    "alp=0\n",
    "num=0\n",
    "sym=0\n",
    "spa=0\n",
    "for i in a:\n",
    "    if i.isalpha():\n",
    "        alp +=1\n",
    "    elif i.isdigit():\n",
    "        num +=1\n",
    "    elif i==' ':\n",
    "        spa +=1\n",
    "    else:\n",
    "        sym +=1\n",
    "print(alp)\n",
    "print(spa)\n",
    "print(num)\n",
    "print(sym)"
   ]
  },
  {
   "cell_type": "markdown",
   "metadata": {},
   "source": [
    "现有一组砝码，重量互不相等，分别为m1,m2,m3…mn；\n",
    "每种砝码对应的数量为x1,x2,x3...xn。现在要用这些砝码去称物体的重量(放在同一侧)，问能称出多少种不同的重量。"
   ]
  },
  {
   "cell_type": "code",
   "execution_count": 191,
   "metadata": {
    "collapsed": false
   },
   "outputs": [
    {
     "name": "stdout",
     "output_type": "stream",
     "text": [
      "#\n"
     ]
    }
   ],
   "source": [
    "while True:\n",
    "    try:\n",
    "        a = int(input())\n",
    "        weight = list(map(int,input().split()))\n",
    "        count = list(map(int,input().split()))\n",
    "        fm,temp,ans = [],[],[0]\n",
    "        # 将所有砝码放入列表\n",
    "        for i in range(a):\n",
    "            for j in range(count[i]):\n",
    "                fm.append(weight[i])\n",
    "        # 称重\n",
    "        for i in fm:\n",
    "            temp = set(ans)\n",
    "            \n",
    "            for j in temp:\n",
    "                ans.append(j+i)\n",
    "        # 去重\n",
    "        print(len(set(ans)))\n",
    "    except:\n",
    "        break"
   ]
  },
  {
   "cell_type": "code",
   "execution_count": 200,
   "metadata": {
    "collapsed": false
   },
   "outputs": [
    {
     "name": "stdout",
     "output_type": "stream",
     "text": [
      "5\n"
     ]
    }
   ],
   "source": [
    "a=2\n",
    "# wei='1 2'.split(' ')\n",
    "wei = list(map(int,'1 2'.split()))\n",
    "cnt = '2 1'.split()\n",
    "fm,temp,ans = [],[],[0]\n",
    "for i in range(a):\n",
    "    for j in range(int(cnt[i])):\n",
    "        fm.append(wei[i])\n",
    "# print(fm)\n",
    "for i in fm:\n",
    "    temp = set(ans)\n",
    "    for j in temp:\n",
    "        ans.append(j+i)\n",
    "print(len(set(ans)))"
   ]
  },
  {
   "cell_type": "markdown",
   "metadata": {},
   "source": [
    "编写程序将数字转换成英文：\n",
    "如22：twenty two，123：one hundred and twenty three。\n",
    "**程序写的太厉害，学不会"
   ]
  },
  {
   "cell_type": "code",
   "execution_count": null,
   "metadata": {
    "collapsed": true
   },
   "outputs": [],
   "source": [
    "\n",
    "def numberToWords(num):\n",
    "    to19='one two three four five six seven eight nine ten eleven twelve thirteen fourteen fifteen seventeen eighteen nineteen'.split()\n",
    "    tens=\"twenty thirty forty fifty sixty seventy eighty ninety\".split()\n",
    "    def words(n):\n",
    "        if n<20:return to19[n-1:n]\n",
    "        if n<100:return [tens[n//10-2]]+words(n%10)\n",
    "        if n<1000:\n",
    "            return [to19[n//100-1]]+[\"hundred\"]+[\"and\"]+words(n%100)\n",
    "        for p,w in enumerate(('thousand',\"million\",\"billion\"),1):\n",
    "            if n<1000**(p+1):\n",
    "                return words(n//1000**p)+[w]+words(n%1000**p)\n",
    "    return \" \".join(words(num)) or \"Zero\"\n",
    "while True:\n",
    "    try:\n",
    "        print(numberToWords(int(input())))\n",
    "    except:break\n"
   ]
  },
  {
   "cell_type": "code",
   "execution_count": 5,
   "metadata": {
    "collapsed": false
   },
   "outputs": [
    {
     "data": {
      "text/plain": [
       "[(1, 'Spring'), (2, 'Summer'), (3, 'Fall'), (4, 'Winter')]"
      ]
     },
     "execution_count": 5,
     "metadata": {},
     "output_type": "execute_result"
    }
   ],
   "source": [
    "seasons = ['Spring', 'Summer', 'Fall', 'Winter']\n",
    "list(enumerate(seasons,1))"
   ]
  },
  {
   "cell_type": "markdown",
   "metadata": {},
   "source": [
    "定义一个二维数组NM表示一个迷宫，其中的1表示墙壁，0表示可以走的路，只能横着走或竖着走，不能斜着走，要求编程序找出从左上角到右下角的最短路线。入口点为[0,0],既第一空格是可以走的路。"
   ]
  },
  {
   "cell_type": "code",
   "execution_count": null,
   "metadata": {
    "collapsed": true
   },
   "outputs": [],
   "source": [
    "#别人提交的代码，功能不对啊，能通过\n",
    "while True:\n",
    "    try:\n",
    "        d =[]\n",
    "        r,c = map(int,input().split())#5*5\n",
    "        m = [list(map(int,input().split())) for i in range(r)]\n",
    "        for i in range(r):\n",
    "            for j in range(c):\n",
    "                if m[i][j] ==0:\n",
    "                    d.append((i,j))\n",
    "        for e in d:\n",
    "            print('()'+str(e[0])+','+str(e[1])+')')\n",
    "    except:\n",
    "        break"
   ]
  },
  {
   "cell_type": "markdown",
   "metadata": {},
   "source": [
    "数独（Sudoku）是一款大众喜爱的数字逻辑游戏。玩家需要根据9X9盘面上的已知数字，推算出所有剩余空格的数字，并且满足每一行、每一列、每一个粗线宫内的数字均含1-9，并且不重复。 不会..........."
   ]
  },
  {
   "cell_type": "code",
   "execution_count": null,
   "metadata": {
    "collapsed": true
   },
   "outputs": [],
   "source": []
  },
  {
   "cell_type": "markdown",
   "metadata": {},
   "source": [
    "给出一个名字，该名字有26个字符串组成，定义这个字符串的“漂亮度”是其所有字母“漂亮度”的总和。每个字母都有一个“漂亮度”，范围在1到26之间。\n",
    "**思路：其实就是出现次数最多的字母漂亮度是26，第二多的是25...以此类推。"
   ]
  },
  {
   "cell_type": "code",
   "execution_count": 2,
   "metadata": {
    "collapsed": false
   },
   "outputs": [
    {
     "name": "stdout",
     "output_type": "stream",
     "text": [
      "1\n",
      "192\n"
     ]
    }
   ],
   "source": [
    "n = int(input())\n",
    "for i in range(n):\n",
    "    s= 'ZhangSan'.lower()\n",
    "    l=[]\n",
    "    res = 0\n",
    "    for i in set(s):\n",
    "        l.append(s.count(i))\n",
    "    l=sorted(l,reverse=True)\n",
    "    for i in range(len(l)):\n",
    "        res +=l[i]*(26-i)\n",
    "    print(res)"
   ]
  },
  {
   "cell_type": "code",
   "execution_count": 5,
   "metadata": {
    "collapsed": false
   },
   "outputs": [
    {
     "data": {
      "text/plain": [
       "['1', 'S', 'Z', 'a', 'a', 'g', 'h', 'n', 'n']"
      ]
     },
     "execution_count": 5,
     "metadata": {},
     "output_type": "execute_result"
    }
   ],
   "source": [
    "set('Zha11ngSan')#自动排序数字 大写 小写\n",
    "sorted('Zha1ngSan')#数字 大写 小写"
   ]
  },
  {
   "cell_type": "markdown",
   "metadata": {},
   "source": [
    "输入为一个字符串和字节数，输出为按字节截取的字符串。但是要保证汉字不被截半个，如\"我ABC\"4，应该截为\"我AB\"，输入\"我ABC汉DEF\"6，应该输出为\"我ABC\"\n",
    "**问题：在note中，汉字也是alpha？"
   ]
  },
  {
   "cell_type": "code",
   "execution_count": 7,
   "metadata": {
    "collapsed": false
   },
   "outputs": [
    {
     "name": "stdout",
     "output_type": "stream",
     "text": [
      "5\n",
      "我ABC汉\n"
     ]
    }
   ],
   "source": [
    "a= '我ABC汉DEF'\n",
    "n = int(input())\n",
    "if a[n-1].isalpha():\n",
    "    res = a[:n]\n",
    "else:\n",
    "    res = a[:n-a]\n",
    "print(res)"
   ]
  },
  {
   "cell_type": "markdown",
   "metadata": {},
   "source": [
    "进行一阶线性插值估计的第N+i个测量结果的测量值为A+( (B-A)/(N-M) )*i  (注：N的编号比M大。)\n",
    "**没做**"
   ]
  },
  {
   "cell_type": "code",
   "execution_count": null,
   "metadata": {
    "collapsed": true
   },
   "outputs": [],
   "source": [
    "def insertK(original_list):\n",
    "    res = []\n",
    "    key = -1\n",
    "    value = -1\n",
    "    for i in range(len(original_list)):\n",
    "        if i == 0:\n",
    "            res.append(original_list[i])\n",
    "            key,value = original_list[i][0],original_list[i][1]\n",
    "        else:\n",
    "            if original_list[i][0] == original_list[i-1][0]:\n",
    "                continue\n",
    "            elif original_list[i][0] < original_list[i-1][0]:\n",
    "                res.append(original_list[i])\n",
    "                key,value = original_list[i][0],original_list[i][1]\n",
    "            else:\n",
    "                if original_list[i][0] == key + 1:\n",
    "                    res.append(original_list[i])\n",
    "                    key,value = original_list[i][0],original_list[i][1]\n",
    "                else:\n",
    "                    temp = []\n",
    "                    diff = original_list[i][0] - key\n",
    "                    for j in range(diff-1):\n",
    "                        pair_key = key + (j+1)\n",
    "                        pair_value = value + int((original_list[i][1]-value)/(original_list[i][0]-key)) * (j+1)\n",
    "                        temp.append([pair_key,pair_value])\n",
    "                    res += temp\n",
    "                    res.append(original_list[i])\n",
    "                    key,value = original_list[i][0],original_list[i][1]\n",
    "    for pair in res:\n",
    "        print(pair[0],pair[1])\n",
    "while True:\n",
    "    try:\n",
    "        n,m = map(int,input().split())\n",
    "        original_list = []\n",
    "        for i in range(n):\n",
    "            key,value = map(int,input().split())\n",
    "            temp = [key,value]\n",
    "            original_list.append(temp)\n",
    "        insertK(original_list)\n",
    "    except:\n",
    "        break"
   ]
  },
  {
   "cell_type": "markdown",
   "metadata": {},
   "source": [
    "输入一个单向链表和一个节点的值，从单向链表中删除等于该值的节点，删除后如果链表中无节点则返回空指针。"
   ]
  },
  {
   "cell_type": "markdown",
   "metadata": {},
   "source": [
    "有4个线程和1个公共的字符数组。线程1的功能就是向数组输出A，线程2的功能就是向字符输出B，线程3的功能就是向数组输出C，线程4的功能就是向数组输出D。\n",
    "**不懂"
   ]
  },
  {
   "cell_type": "code",
   "execution_count": null,
   "metadata": {
    "collapsed": true
   },
   "outputs": [],
   "source": []
  },
  {
   "cell_type": "code",
   "execution_count": null,
   "metadata": {
    "collapsed": true
   },
   "outputs": [],
   "source": [
    "输入一个算术表达式，得到运算结果\n",
    "直接用eval()"
   ]
  },
  {
   "cell_type": "code",
   "execution_count": 8,
   "metadata": {
    "collapsed": false
   },
   "outputs": [
    {
     "data": {
      "text/plain": [
       "2"
      ]
     },
     "execution_count": 8,
     "metadata": {},
     "output_type": "execute_result"
    }
   ],
   "source": [
    "string = '1+1'\n",
    "eval(string)"
   ]
  },
  {
   "cell_type": "markdown",
   "metadata": {},
   "source": [
    "输入一个单向链表，输出该链表中倒数第k个结点"
   ]
  },
  {
   "cell_type": "code",
   "execution_count": 12,
   "metadata": {
    "collapsed": false
   },
   "outputs": [
    {
     "name": "stdout",
     "output_type": "stream",
     "text": [
      "2\n"
     ]
    }
   ],
   "source": [
    "s ='1 2 3 4 5'\n",
    "k = list(map(int,s.split()))\n",
    "n =4\n",
    "if len(k)==1:\n",
    "    print(0)\n",
    "else:\n",
    "    print(k[-n])"
   ]
  },
  {
   "cell_type": "markdown",
   "metadata": {},
   "source": [
    "Levenshtein 距离，又称编辑距离，指的是两个字符串之间，由一个转换成另一个所需的最少编辑操作次数。\n",
    "https://www.jianshu.com/p/9a53f32cf62b\n",
    "**不会"
   ]
  },
  {
   "cell_type": "code",
   "execution_count": null,
   "metadata": {
    "collapsed": true
   },
   "outputs": [],
   "source": []
  },
  {
   "cell_type": "markdown",
   "metadata": {},
   "source": [
    "上三角形的数阵，第一行只有一个数1，以下每行的每个数，是恰好是它上面的数，左上角数到右上角的数，3个数之和（如果不存在某个数，认为该数就是0）。\n",
    "\n",
    "求第n行第一个偶数出现的位置。如果没有偶数，则输出-1。例如输入3,则输出2，输入4则输出3。"
   ]
  },
  {
   "cell_type": "code",
   "execution_count": null,
   "metadata": {
    "collapsed": true
   },
   "outputs": [],
   "source": [
    "while True:\n",
    "    try:\n",
    "        a,b = int(input()),0\n",
    "        if a%2 == 1:\n",
    "            b = 2\n",
    "        elif a%4 == 0:\n",
    "            b = 3\n",
    "        elif a < 3:\n",
    "            b = -1\n",
    "        else:\n",
    "            b = 4\n",
    "        print(b)\n",
    "    except:\n",
    "        break"
   ]
  },
  {
   "cell_type": "code",
   "execution_count": null,
   "metadata": {
    "collapsed": true
   },
   "outputs": [],
   "source": []
  },
  {
   "cell_type": "markdown",
   "metadata": {},
   "source": [
    "输出7有关数字的个数，包括7的倍数，还有包含7的数字（如17，27，37...70，71，72，73...）的个数"
   ]
  },
  {
   "cell_type": "code",
   "execution_count": 6,
   "metadata": {
    "collapsed": false
   },
   "outputs": [
    {
     "name": "stdout",
     "output_type": "stream",
     "text": [
      "17094\n",
      "7097\n"
     ]
    }
   ],
   "source": [
    "n = int(input())\n",
    "li = []\n",
    "for i in range(1,n+1):\n",
    "    if '7' in str(i) or i%7==0:\n",
    "        li.append(i)\n",
    "print(len(set(li)))"
   ]
  },
  {
   "cell_type": "markdown",
   "metadata": {},
   "source": [
    "完全数（Perfect number)28，它有约数1、2、4、7、14、28，除去它本身28外，其余5个数相加，1+2+4+7+14=28。  500000以内： [6,28,496,8128]\n",
    "filter(function, iterable)"
   ]
  },
  {
   "cell_type": "code",
   "execution_count": 8,
   "metadata": {
    "collapsed": false
   },
   "outputs": [
    {
     "data": {
      "text/plain": [
       "[1, 2]"
      ]
     },
     "execution_count": 8,
     "metadata": {},
     "output_type": "execute_result"
    }
   ],
   "source": [
    "list(filter(lambda x:x<100,[1,2,101]))"
   ]
  },
  {
   "cell_type": "code",
   "execution_count": null,
   "metadata": {
    "collapsed": true
   },
   "outputs": [],
   "source": [
    "n = int(input())\n",
    "li = list(filter(lambda x:x<n, [6,28,496,8128]))\n",
    "print(len(li))"
   ]
  },
  {
   "cell_type": "code",
   "execution_count": null,
   "metadata": {
    "collapsed": true
   },
   "outputs": [],
   "source": [
    "输入求和？"
   ]
  },
  {
   "cell_type": "code",
   "execution_count": null,
   "metadata": {
    "collapsed": true
   },
   "outputs": [],
   "source": [
    "a = int(input())\n",
    "b = int(input())\n",
    "print(a+b)"
   ]
  },
  {
   "cell_type": "markdown",
   "metadata": {},
   "source": [
    "输入n个整数，输出其中最小的k个\n",
    "**自己的for循环为何错了"
   ]
  },
  {
   "cell_type": "code",
   "execution_count": 18,
   "metadata": {
    "collapsed": false
   },
   "outputs": [
    {
     "name": "stdout",
     "output_type": "stream",
     "text": [
      "[11, 112, 113, 500]\n",
      "11 112 113 500 "
     ]
    }
   ],
   "source": [
    "n,m=5,4\n",
    "li = [112, 11, 500, 700, 113]\n",
    "li=sorted(li)\n",
    "print(' '.join(map(str,li[:m])))\n",
    "# for i in range(m):\n",
    "#     print(li[i],end = ' ')"
   ]
  },
  {
   "cell_type": "code",
   "execution_count": null,
   "metadata": {
    "collapsed": true
   },
   "outputs": [],
   "source": [
    "找出字符串中第一个只出现一次的字符，没有返回-1"
   ]
  },
  {
   "cell_type": "code",
   "execution_count": 25,
   "metadata": {
    "collapsed": false
   },
   "outputs": [
    {
     "name": "stdout",
     "output_type": "stream",
     "text": [
      "o\n"
     ]
    }
   ],
   "source": [
    "s= 'asdfasdfo'\n",
    "t = ''\n",
    "for i in s:\n",
    "    if s.count(i)==1:\n",
    "        t +=i\n",
    "    \n",
    "if len(t)==0:\n",
    "    print(-1)\n",
    "else:\n",
    "    print(t[0]) "
   ]
  },
  {
   "cell_type": "markdown",
   "metadata": {},
   "source": [
    "任意一个偶数（大于2）都可以由2个素数组成，组成偶数的2个素数有很多种情况，本题目要求输出组成指定偶数的两个素数差值最小的素数对\n",
    "素数n判断方式：除开方数和除(2,n)"
   ]
  },
  {
   "cell_type": "code",
   "execution_count": null,
   "metadata": {
    "collapsed": true
   },
   "outputs": [],
   "source": [
    "for i in range(2, int(math.sqrt(n)) + 1):\n",
    "    if n % i == 0:\n",
    "        return False\n",
    "return True"
   ]
  },
  {
   "cell_type": "code",
   "execution_count": 35,
   "metadata": {
    "collapsed": false
   },
   "outputs": [
    {
     "name": "stdout",
     "output_type": "stream",
     "text": [
      "18\n",
      "7\n",
      "11\n"
     ]
    }
   ],
   "source": [
    "def isPrime(n):\n",
    "    for i in range(2, int(math.sqrt(n)) + 1):\n",
    "        if n % i == 0:\n",
    "            return False\n",
    "    return True\n",
    "a=int(input())\n",
    "b=a//2\n",
    "for i in range(b,0,-1):\n",
    "    if isPrime(i) and isPrime(a-i):\n",
    "        print(i)\n",
    "        print(a-i)\n",
    "        break"
   ]
  },
  {
   "cell_type": "code",
   "execution_count": 26,
   "metadata": {
    "collapsed": false
   },
   "outputs": [
    {
     "data": {
      "text/plain": [
       "2.0"
      ]
     },
     "execution_count": 26,
     "metadata": {},
     "output_type": "execute_result"
    }
   ],
   "source": [
    "while True:\n",
    "    try:\n",
    "        num ,start= int(input()) // 2,1\n",
    "        if num%2==1:\n",
    "            start=0\n",
    "        for i in range(start, num, 2):\n",
    "            a, b = num + i, num - i\n",
    "            if isPrime(a) and isPrime(b):\n",
    "                print(b)\n",
    "                print(a)\n",
    "                break\n",
    "    except:\n",
    "        break"
   ]
  },
  {
   "cell_type": "markdown",
   "metadata": {},
   "source": [
    "把M个同样的苹果放在N个同样的盘子里，允许有的盘子空着不放，问共有多少种不同的分法？\n",
    "放苹果分为两种情况，一种是有盘子为空，一种是每个盘子上都有苹果。\n",
    "令(m,n)表示将m个苹果放入n个盘子中的摆放方法总数。\n",
    "1.假设有一个盘子为空，则(m,n)问题转化为将m个苹果放在n-1个盘子上，即求得(m,n-1)即可\n",
    "2.假设所有盘子都装有苹果，则每个盘子上至少有一个苹果，即最多剩下m-n个苹果，问题转化为将m-n个苹果放到n个盘子上"
   ]
  },
  {
   "cell_type": "code",
   "execution_count": null,
   "metadata": {
    "collapsed": true
   },
   "outputs": [],
   "source": [
    "def f(m,n):\n",
    "    if m<0 or n<0:\n",
    "        return 0\n",
    "    elif m==1 or n==1:\n",
    "        return 1\n",
    "    else:\n",
    "        return f(m,n-1)+f(m-n,n)#至少有一个盘子空着；每个盘子都有，剩下m-n，继续放"
   ]
  },
  {
   "cell_type": "markdown",
   "metadata": {},
   "source": [
    "输入一个string型基因序列，和int型子串的长度\n",
    "**没做"
   ]
  },
  {
   "cell_type": "code",
   "execution_count": null,
   "metadata": {
    "collapsed": true
   },
   "outputs": [],
   "source": []
  },
  {
   "cell_type": "markdown",
   "metadata": {},
   "source": [
    "MP3 Player因为屏幕较小，显示歌曲列表的时候每屏只能显示几首歌曲，用户要通过上下键才能浏览所有的歌曲。为了简化处理，假设每屏只能显示4首歌曲，光标初始的位置为第1首歌\n",
    "**没做"
   ]
  },
  {
   "cell_type": "code",
   "execution_count": null,
   "metadata": {
    "collapsed": true
   },
   "outputs": [],
   "source": []
  },
  {
   "cell_type": "markdown",
   "metadata": {},
   "source": [
    "查找两个字符串a,b中的最长公共子串。若有多个，输出在较短串中最先出现的那个\n",
    "思路：对短的进行两层循环，取所有的串，然后判断是否在long中"
   ]
  },
  {
   "cell_type": "code",
   "execution_count": 38,
   "metadata": {
    "collapsed": false
   },
   "outputs": [
    {
     "name": "stdout",
     "output_type": "stream",
     "text": [
      "jklmnop\n"
     ]
    }
   ],
   "source": [
    "s1='abcdefghijklmnop'\n",
    "s2='abcsafjklmnopqrstuvw'\n",
    "repeat=''\n",
    "short, long = (s1, s2) if len(s1) < len(s2) else (s2, s1)\n",
    "repeat = ''\n",
    "for i in range(len(short)):\n",
    "    for j in range(len(short)):\n",
    "        if short[i:j + 1] in long and j + 1 - i > len(repeat):\n",
    "            repeat = short[i:j + 1]\n",
    "print(repeat)"
   ]
  },
  {
   "cell_type": "markdown",
   "metadata": {},
   "source": [
    "只输入一字串，则只匹配一个关键字的命令行。例如输入：r，根据该规则，匹配命令reset，执行结果为：reset what；输入：res，根据该规则，匹配命令reset，执行结果为：reset what；\n",
    "**不懂"
   ]
  },
  {
   "cell_type": "code",
   "execution_count": null,
   "metadata": {
    "collapsed": true
   },
   "outputs": [],
   "source": []
  },
  {
   "cell_type": "markdown",
   "metadata": {},
   "source": [
    "问题描述：给出4个1-10的数字，通过加减乘除，得到数字为24就算胜利\n",
    "输入：7 2 1 10\n",
    "**没看懂"
   ]
  },
  {
   "cell_type": "code",
   "execution_count": 57,
   "metadata": {
    "collapsed": false
   },
   "outputs": [
    {
     "name": "stdout",
     "output_type": "stream",
     "text": [
      "12 2\n",
      "true\n"
     ]
    }
   ],
   "source": [
    "def helper(arr, item):\n",
    "    if item < 1:\n",
    "        return False\n",
    "    if len(arr) == 1:\n",
    "        return arr[0] == item\n",
    "    for i in range(len(arr)):\n",
    "        L = arr[:i] + arr[i+1:]\n",
    "#         print(L)\n",
    "        v = arr[i]\n",
    "        if helper(L, item-v) or helper(L, item+v) or helper(L, item*v) or helper(L, item/v):\n",
    "            return True\n",
    "    return False\n",
    "arr = list(map(int, input().split(' ')))\n",
    "if helper(arr, 24):\n",
    "    print(\"true\")\n",
    "else:\n",
    "    print(\"false\")"
   ]
  },
  {
   "cell_type": "code",
   "execution_count": null,
   "metadata": {
    "collapsed": true
   },
   "outputs": [],
   "source": []
  },
  {
   "cell_type": "code",
   "execution_count": 64,
   "metadata": {
    "collapsed": false,
    "scrolled": true
   },
   "outputs": [
    {
     "name": "stdout",
     "output_type": "stream",
     "text": [
      "3\n",
      "0\n",
      "fa 3\n",
      "z 2\n",
      "n 6\n",
      "[('fa', '3'), ('z', '2'), ('n', '6')]\n",
      "n 6\n",
      "fa 3\n",
      "z 2\n"
     ]
    }
   ],
   "source": [
    "n = int(input())\n",
    "m = int(input())\n",
    "flag = True if m==0 else False\n",
    "li =[]\n",
    "for i in range(n):\n",
    "    (s11,s12)=input().split()\n",
    "    li.append((s11,s12))\n",
    "print(li)\n",
    "\n",
    "li =sorted(li,key=lambda s:s[1],reverse=flag)\n",
    "for i in range(n):\n",
    "    print(' '.join(li[i]))"
   ]
  },
  {
   "cell_type": "markdown",
   "metadata": {},
   "source": [
    "A是个x行y列的矩阵，B是个y行z列的矩阵，把A和B相乘\n",
    "+=a[x][y] * b[y][z]\n",
    "换行输出的时候，应该是按照列的变化"
   ]
  },
  {
   "cell_type": "code",
   "execution_count": 2,
   "metadata": {
    "collapsed": false
   },
   "outputs": [
    {
     "name": "stdout",
     "output_type": "stream",
     "text": [
      "2\n",
      "1 2\n",
      "3 4\n",
      "[[1, 2], [3, 4]]\n"
     ]
    }
   ],
   "source": [
    "x= int(input())\n",
    "y= int(input())\n",
    "z= int(input())\n",
    "a= []\n",
    "b= []\n",
    "for i in range(x):\n",
    "    li = list(map(int,input().split()))\n",
    "    a.append(li)\n",
    "for i in range(y):\n",
    "    li = list(map(int,input().split()))\n",
    "    b.append(li)\n",
    "res =[[0 for i in range(z)] for j in range(x)]\n",
    "for i in range(x):\n",
    "    for j in range(z):\n",
    "        for k in range(y):\n",
    "            res[i][j]+=a[i][k]*b[k][j]\n",
    "for i in range(x):\n",
    "    for j in range(z):\n",
    "        if j ==z-1:\n",
    "            print(res[i][j])\n",
    "        else:\n",
    "            print(res[i][j],end = ' ')"
   ]
  },
  {
   "cell_type": "markdown",
   "metadata": {},
   "source": [
    "A是一个50×10的矩阵，B是10×20的矩阵，C是20×5的矩阵\n",
    "计算A*B*C有两种顺序：（（AB）C）或者（A（BC）），前者需要计算15000次乘法，后者只需要3500次。\n",
    "编写程序计算不同的计算顺序需要进行的乘法次数\n",
    "**看不懂"
   ]
  },
  {
   "cell_type": "code",
   "execution_count": 3,
   "metadata": {
    "collapsed": false
   },
   "outputs": [
    {
     "name": "stdout",
     "output_type": "stream",
     "text": [
      "3\n",
      "50 10\n",
      "10 20\n",
      "20 5\n",
      "(A(BC))\n",
      "3500\n"
     ]
    }
   ],
   "source": [
    "# n = int(input())\n",
    "# li =[]\n",
    "def juzhengchengfa(s, j):\n",
    "    for i in range(len(s)):\n",
    "        if s[i]=='(' and s[i+3]==')':                                                 # 最先计算的两个矩阵位置，i/2\n",
    "            k = j[int(i/2)][0]*j[int(i/2)][1]*j[int(i/2)+1][1]                        # 每次计算量\n",
    "            s = s[0:i]+'Z'+s[i+4:]                                                    # 更新计算法则\n",
    "            j = j[:int(i/2)] + [[j[int(i/2)][0], j[int(i/2)+1][1]]] + j[int(i/2)+1:]  # 得到新的矩阵的行列数\n",
    "            return s, j, k\n",
    "\n",
    "\n",
    "n = int(input())\n",
    "ij = [[int(i) for i in input().split()] for k in range(n)]\n",
    "cf = str(input())#计算规则\n",
    "m = 0\n",
    "for i in range(n-1):# 一共计算n-1次\n",
    "    cf, ij, mn = juzhengchengfa(cf, ij)\n",
    "    m += mn\n",
    "print(m)\n"
   ]
  },
  {
   "cell_type": "code",
   "execution_count": 9,
   "metadata": {
    "collapsed": false
   },
   "outputs": [],
   "source": [
    "n = int(input())\n",
    "a = input()\n",
    "ij = [[int(i) for i in input().split()] for k in range(n)]\n",
    "if a =='(A(BC))':\n",
    "    m=ij[0][0]*ij[1][0]*ij[2][1]+ij[1][0]*ij[2][0]*ij[2][1]\n",
    "else:\n",
    "    m=ij[0][0]*ij[1][0]*ij[1][1]+ij[0][0]*ij[2][0]*ij[2][1]\n",
    "print(m)"
   ]
  },
  {
   "cell_type": "markdown",
   "metadata": {},
   "source": [
    "通配符一种特殊语法，广泛应用于文件搜索、数据库、正则表达式等领域。现要求各位实现字符串通配符的算法。\n",
    "**不懂题意 遇到相等或？继续  遇到*,下个位置等否，否者b后移和a比较，原理是啥？"
   ]
  },
  {
   "cell_type": "code",
   "execution_count": 14,
   "metadata": {
    "collapsed": false
   },
   "outputs": [
    {
     "name": "stdout",
     "output_type": "stream",
     "text": [
      "t?t\n",
      "t**\n",
      "true\n"
     ]
    }
   ],
   "source": [
    "a = input()\n",
    "b = input()\n",
    "x = 0\n",
    "y = 0\n",
    "flag = \"true\"\n",
    "while x < len(a) - 1 and y < len(b) - 1:\n",
    "    if a[x] == b[y] or a[x] == '?':\n",
    "        x += 1\n",
    "        y += 1\n",
    "    elif a[x] == '*':\n",
    "        if a[x + 1] == b[y + 1]:\n",
    "            x += 1\n",
    "            y += 1\n",
    "        else:\n",
    "            y += 1\n",
    "    else:\n",
    "        flag = \"false\"\n",
    "        break\n",
    "print(flag)"
   ]
  },
  {
   "cell_type": "markdown",
   "metadata": {},
   "source": [
    "鸡翁一值钱五，鸡母一值钱三，鸡雏三值钱一。输入钱数，输入可以的搭配列表\n",
    "思路：x+y+z=100  5x+3y+1/3z=100-->7x+4y=100\n",
    "x(0,14)  y(0,25)"
   ]
  },
  {
   "cell_type": "code",
   "execution_count": 17,
   "metadata": {
    "collapsed": false
   },
   "outputs": [],
   "source": [
    "for i in range(15):\n",
    "    for j in range(26):\n",
    "        if i*5+j*3+(100-i-j)/3==100:\n",
    "            print(i,j,100-i-j)"
   ]
  },
  {
   "cell_type": "code",
   "execution_count": null,
   "metadata": {
    "collapsed": true
   },
   "outputs": [],
   "source": [
    "根据输入的日期，计算是这一年的第几天\n",
    "非整百年闰年能整除4  整百年能整除400"
   ]
  },
  {
   "cell_type": "code",
   "execution_count": 4,
   "metadata": {
    "collapsed": false
   },
   "outputs": [
    {
     "name": "stdout",
     "output_type": "stream",
     "text": [
      "366\n"
     ]
    }
   ],
   "source": [
    "import datetime\n",
    "print(datetime.datetime(1600,12, 31).strftime('%j'))#'%j'天数   .strftime(\"%b %d %Y %H:%M:%S\"）\n"
   ]
  },
  {
   "cell_type": "code",
   "execution_count": 1,
   "metadata": {
    "collapsed": false
   },
   "outputs": [
    {
     "name": "stdout",
     "output_type": "stream",
     "text": [
      "1800 12 31\n",
      "365\n"
     ]
    }
   ],
   "source": [
    "\n",
    "month_d = [0,31,28,31,30,31,30,31,31,30,31,30,31]\n",
    "year, month, day = map(int,input().split())\n",
    "day_num = 0\n",
    "#非整百年闰年能整除4  整百年能整除400\n",
    "if (year % 4 == 0 and year % 100 != 0) or year % 400 == 0:\n",
    "    month_d[2] = 29\n",
    "for i in range(month):\n",
    "    day_num += month_d[i]\n",
    "day_num += day\n",
    "print(day_num)\n"
   ]
  },
  {
   "cell_type": "code",
   "execution_count": null,
   "metadata": {
    "collapsed": true
   },
   "outputs": [],
   "source": [
    "将字符串中以空格隔开的指令分割开xcopy /s c:\\ d:\\，"
   ]
  },
  {
   "cell_type": "code",
   "execution_count": 5,
   "metadata": {
    "collapsed": false
   },
   "outputs": [],
   "source": [
    "a = input().split()\n",
    "print(len(a))\n",
    "for i in a:\n",
    "    print(i)"
   ]
  },
  {
   "cell_type": "markdown",
   "metadata": {},
   "source": [
    "计算两个字符串的最大公共字串的长度，字符不区分大小写\n"
   ]
  },
  {
   "cell_type": "code",
   "execution_count": null,
   "metadata": {
    "collapsed": true
   },
   "outputs": [],
   "source": [
    "a = input().upper()\n",
    "b = input().upper()\n",
    "n = 0\n",
    "for i in range(len(a)):\n",
    "    if a[i-n:i+1] in b:\n",
    "        n += 1\n",
    "print(n)"
   ]
  },
  {
   "cell_type": "markdown",
   "metadata": {},
   "source": [
    "验证尼科彻斯定理,任何一个整数m的立方都可以写成m个连续奇数之和。\n",
    "如何 计算第一个数值？其他直接2*i  归纳一下和平方有关\n",
    "第一个数：n**2-(n-1)"
   ]
  },
  {
   "cell_type": "code",
   "execution_count": 2,
   "metadata": {
    "collapsed": false
   },
   "outputs": [
    {
     "name": "stdout",
     "output_type": "stream",
     "text": [
      "4\n",
      "13+15+17+19\n"
     ]
    }
   ],
   "source": [
    "n=int(input())\n",
    "li=[]\n",
    "for i in range(n):\n",
    "    li.append(n**2-n+1+2*i)\n",
    "print('+'.join(map(str,li)))\n"
   ]
  },
  {
   "cell_type": "markdown",
   "metadata": {},
   "source": [
    "一共N辆火车，每辆火车以数字1-9编号，火车站只有一个方向进出，同时停靠在火车站的列车中，只有后进站的出站了，先进站的才能出站。要求以字典序排序输出火车出站的序列号。\n",
    "假设火车到站的顺序是1 2 3；\n",
    "（1）这时候可以是1 到站后 马上就出站；然后2 进站，然后2出站；最后3进站，然后3出站；这时候出站顺序是 1 2 3；\n",
    "（2）也可以是1 进站，2进站，这时候，必须2先出站，接着1出站。最后是3进站，然后3出站；这时候出站顺序是2 1 3；\n",
    "（3）当然也可以是1 进站，2进站，3进站；然后必须是 3 先出站，2 次出站，1最后出站\n",
    "解释一下为什么3 1 2不可以:1肯定最后"
   ]
  },
  {
   "cell_type": "code",
   "execution_count": null,
   "metadata": {
    "collapsed": true
   },
   "outputs": [],
   "source": []
  },
  {
   "cell_type": "code",
   "execution_count": null,
   "metadata": {
    "collapsed": true
   },
   "outputs": [],
   "source": [
    "设计一个算法完成两个超长正整数的加法。"
   ]
  },
  {
   "cell_type": "code",
   "execution_count": null,
   "metadata": {
    "collapsed": true
   },
   "outputs": [],
   "source": [
    "print(int(input())+int(input()))"
   ]
  },
  {
   "cell_type": "markdown",
   "metadata": {},
   "source": [
    "对于“abcdefg”和“abcdef”两个字符串来说，我们认为可以通过增加和减少一个“g”的方式来达到目的。上面的两种方案，都只需要一次操作。把这个操作所需要的次数定义为两个字符串的距离，而相似度等于“距离＋1”的倒数。也就是说，“abcdefg”和“abcdef”的距离为1，相似度为1/2=0.5.\n",
    "**和之前求Levenshtein 距离一样"
   ]
  },
  {
   "cell_type": "code",
   "execution_count": null,
   "metadata": {
    "collapsed": true
   },
   "outputs": [],
   "source": [
    "def editDistance(str1, str2):\n",
    "    len1, len2 = len(str1) + 1, len(str2) + 1\n",
    "    dp = [[0 for i in range(len2)] for j in range(len1)]\n",
    "    for i in range(len1):\n",
    "        dp[i][0] = i\n",
    "    for j in range(len2):\n",
    "        dp[0][j] = j\n",
    "    for i in range(1, len1):\n",
    "        for j in range(1, len2):\n",
    "            dp[i][j] = min(dp[i - 1][j] + 1, dp[i][j - 1] + 1, dp[i - 1][j - 1] + (str1[i - 1] != str2[j - 1]))\n",
    "    return dp[-1][-1]"
   ]
  },
  {
   "cell_type": "code",
   "execution_count": null,
   "metadata": {
    "collapsed": true
   },
   "outputs": [],
   "source": [
    "输出合并两个数组之后的数组，并排序"
   ]
  },
  {
   "cell_type": "code",
   "execution_count": 4,
   "metadata": {
    "collapsed": false
   },
   "outputs": [
    {
     "name": "stdout",
     "output_type": "stream",
     "text": [
      "[0, 1, 2, 3, 5]\n",
      "01235\n"
     ]
    }
   ],
   "source": [
    "m=[1,2,3]\n",
    "n =[5,0]\n",
    "li =[]\n",
    "for i in range(3):\n",
    "    li.append(m[i])\n",
    "for i in range(2):\n",
    "    li.append(n[i])\n",
    "li = sorted(set(li))#将两个矩阵直接加可合并\n",
    "print(li)\n",
    "print(''.join(map(str,li)))"
   ]
  },
  {
   "cell_type": "markdown",
   "metadata": {},
   "source": [
    "判断短字符串中的所有字符是否在长字符串中全部出现"
   ]
  },
  {
   "cell_type": "code",
   "execution_count": 10,
   "metadata": {
    "collapsed": false
   },
   "outputs": [
    {
     "name": "stdout",
     "output_type": "stream",
     "text": [
      "true\n"
     ]
    }
   ],
   "source": [
    "a='cbgga'\n",
    "b='abc'\n",
    "flag=''\n",
    "a,b=(a,b) if len(a)<=len(b) else (b,a)\n",
    "\n",
    "flag='true'\n",
    "a,b=(a,b) if len(a)<=len(b) else (b,a)\n",
    "for i in a:\n",
    "    if i not in b:\n",
    "        flag = 'false'\n",
    "        break\n",
    "print(flag)"
   ]
  },
  {
   "cell_type": "markdown",
   "metadata": {},
   "source": [
    "分子为1的分数称为埃及分数。现输入一个真分数(分子比分母小的分数，叫做真分数)，请将该分数分解为埃及分数。如：8/11 = 1/2+1/5+1/55+1/110。\n",
    "**感觉可以用递归，不知道怎么做"
   ]
  },
  {
   "cell_type": "code",
   "execution_count": null,
   "metadata": {
    "collapsed": true
   },
   "outputs": [],
   "source": [
    "while b%a != 0:\n",
    "    c = b//a + 1\n",
    "    result.append(\"1/\" + str(c))\n",
    "    a = a-b%a\n",
    "    b = b*c\n",
    "result.append(\"1/\" + str(b//a))\n",
    "print('+'.join(result))"
   ]
  },
  {
   "cell_type": "markdown",
   "metadata": {},
   "source": [
    "有一个数据表格为二维数组，对该表格中数据的操作可以在单个单元内，也可以对一个整行或整列进行操作，操作包括交换两个单元中的数据；插入某些行或列。合法返回0"
   ]
  },
  {
   "cell_type": "markdown",
   "metadata": {},
   "source": [
    "找出给定字符串中大写字符(即'A'-'Z')的个数"
   ]
  },
  {
   "cell_type": "code",
   "execution_count": 12,
   "metadata": {
    "collapsed": false
   },
   "outputs": [
    {
     "name": "stdout",
     "output_type": "stream",
     "text": [
      "1\n"
     ]
    }
   ],
   "source": [
    "st ='add123#$%#%#O'\n",
    "n = 0\n",
    "for i in st:\n",
    "    if i.isupper():\n",
    "        n +=1\n",
    "print(n)"
   ]
  },
  {
   "cell_type": "markdown",
   "metadata": {},
   "source": [
    "Catcher 是MCA国的情报员，他工作时发现敌国会用一些对称的密码进行通信，比如像这些ABBA，ABA，A，123321，但是他们有时会在开始或结束时加入一些无关的字符以防止别国破解。\n",
    "**重复的  没做\n",
    "证明：如果新增了一个字母，最大回文串的长度增加了3，这是不可能的，例如：abcdefgfedcba，当增加到最后的b或者a时，是不可能增加3个长度的，因为每增加一个字母，前面必然已经存在一个回文子串，且长度比新串小1或者小2.\n",
    "所以，从头到尾扫描字符串，每增加一个新的字符，判断以这个字符结尾，且长度为maxLen+1或者maxLen+2的子串是否为回文，如果是，更新最大回文子串。代码如下："
   ]
  },
  {
   "cell_type": "code",
   "execution_count": 14,
   "metadata": {
    "collapsed": false
   },
   "outputs": [
    {
     "name": "stdout",
     "output_type": "stream",
     "text": [
      "4\n"
     ]
    }
   ],
   "source": [
    "def longestPalindrome(s):\n",
    "    if s==s[::-1]:return len(s)\n",
    "    maxLen=0\n",
    "    for i in range(len(s)):\n",
    "        if i-maxLen>=1 and s[i-maxLen-1:i+1]==s[i-maxLen-1:i+1][::-1]:\n",
    "            maxLen+=2\n",
    "            continue\n",
    "        if i-maxLen>=0 and s[i-maxLen:i+1]==s[i-maxLen:i+1][::-1]:\n",
    "            maxLen+=1\n",
    "    return maxLen\n",
    "print(longestPalindrome('abba'))"
   ]
  },
  {
   "cell_type": "markdown",
   "metadata": {},
   "source": [
    "求一个byte数字对应的二进制数字中1的最大连续数"
   ]
  },
  {
   "cell_type": "code",
   "execution_count": null,
   "metadata": {
    "collapsed": false
   },
   "outputs": [],
   "source": [
    "n =int(input())\n",
    "m = 0\n",
    "s=bin(n)[2:]\n",
    "for i in range(1,len(s)+1):\n",
    "    if '1'*i in s:\n",
    "        m=i\n",
    "print(m)"
   ]
  },
  {
   "cell_type": "markdown",
   "metadata": {},
   "source": [
    "密码按如下规则进行计分，并根据不同的得分为密码进行安全等级划分。"
   ]
  },
  {
   "cell_type": "code",
   "execution_count": null,
   "metadata": {
    "collapsed": true
   },
   "outputs": [],
   "source": [
    "st =input().strip()\n",
    "num,up,low,score,other=0,0,0,0,0\n",
    "for i in st:\n",
    "    if i.isdigit():\n",
    "        num +=1\n",
    "    elif i.isalpha():\n",
    "        if i.islower():\n",
    "            low +=1\n",
    "        else:\n",
    "            up +=1\n",
    "    else:\n",
    "        other +=1\n",
    "if len(st)<5:\n",
    "    score +=5\n",
    "elif len(st)<8:\n",
    "    score +=10\n",
    "else:\n",
    "    score +=25\n",
    "if up_char==0 and low_char==0:\n",
    "    pass\n",
    "elif (up_char==0 and low_char!=0) or (up_char!=0 and low_char==0):\n",
    "    score += 10\n",
    "else:\n",
    "    score += 20\n",
    "# 数字\n",
    "if num == 0:\n",
    "    pass\n",
    "elif num == 1:\n",
    "    score += 10\n",
    "else:\n",
    "    score += 25\n",
    "# 其他字符\n",
    "if other == 0:\n",
    "    pass\n",
    "elif other == 1:\n",
    "    score += 10\n",
    "else:\n",
    "    score += 25\n",
    "# 奖励\n",
    "if num != 0 and (up_char+low_char) != 0 and other==0:\n",
    "    score += 2\n",
    "elif num != 0 and up_char != 0 and low_char != 0 and other!=0:\n",
    "    score += 5\n",
    "elif num != 0 and (up_char+low_char) != 0 and other!=0:\n",
    "    score += 3\n",
    "if score >=90:\n",
    "    print('VERY_SECURE')\n",
    "elif score >=80:\n",
    "    print('SECURE')\n",
    "elif score >= 70:\n",
    "    print('VERY_STRONG')\n",
    "elif score >= 60:\n",
    "    print('STRONG')\n",
    "elif score >= 50:\n",
    "    print('AVERAGE')\n",
    "elif  score>=25:\n",
    "    print('WEAK')\n",
    "else:\n",
    "    print('VERY_WEAK')"
   ]
  },
  {
   "cell_type": "markdown",
   "metadata": {},
   "source": [
    "输入两手牌，两手牌之间用\"-\"连接，每手牌的每张牌以空格分隔，\"-\"两边没有空格，如：4 4 4 4-joker JOKER。\n",
    "请比较两手牌大小，输出较大的牌，如果不存在比较关系则输出ERROR。"
   ]
  },
  {
   "cell_type": "code",
   "execution_count": null,
   "metadata": {
    "collapsed": true
   },
   "outputs": [],
   "source": []
  },
  {
   "cell_type": "markdown",
   "metadata": {},
   "source": [
    "本程序要求实现：输入4张牌，输出一个算式，算式的结果为24点。 "
   ]
  },
  {
   "cell_type": "code",
   "execution_count": null,
   "metadata": {
    "collapsed": true
   },
   "outputs": [],
   "source": []
  },
  {
   "cell_type": "markdown",
   "metadata": {},
   "source": [
    "IP地址分成4个部分，如10.137.17.1，是我们非常熟悉的IP地址，\n",
    "现在需要你用程序来判断IP是否合法。返回判断的结果YES or NO"
   ]
  },
  {
   "cell_type": "code",
   "execution_count": null,
   "metadata": {
    "collapsed": true
   },
   "outputs": [],
   "source": [
    "ip=input().split(\".\")\n",
    "flage=True\n",
    "for i in ip:\n",
    "    if 0>int(i) or int(i)>255:\n",
    "        flage=False\n",
    "print(\"YES\" if flage else \"NO\")"
   ]
  },
  {
   "cell_type": "markdown",
   "metadata": {},
   "source": [
    "计算n x m的棋盘格子（n为横向的格子数，m为竖向的格子数）沿着各自边缘线从左上角走到右下角，总共有多少种走法，要求不能走回头路，即：只能往右和往下走，不能往左和往上走。\n",
    "**动态规划？"
   ]
  },
  {
   "cell_type": "code",
   "execution_count": 7,
   "metadata": {
    "collapsed": false
   },
   "outputs": [
    {
     "data": {
      "text/plain": [
       "3"
      ]
     },
     "execution_count": 7,
     "metadata": {},
     "output_type": "execute_result"
    }
   ],
   "source": [
    "def uniquePath(m, n):\n",
    "    if m == 1 or n == 1:\n",
    "        return 1\n",
    "    result = [[0 for i in range(n)]] * m\n",
    "    for i in range(m):\n",
    "        result[i][0] = 1\n",
    "    for i in range(n):\n",
    "        result[0][i] = 1\n",
    "    for i in range(1, m):\n",
    "        for j in range(1, n):\n",
    "            result[i][j] = result[i - 1][j] + result[i][j - 1]\n",
    "    return result[m - 1][n - 1]\n",
    "uniquePath(1+1,2+1)"
   ]
  },
  {
   "cell_type": "code",
   "execution_count": 12,
   "metadata": {
    "collapsed": false
   },
   "outputs": [
    {
     "data": {
      "text/plain": [
       "[[0, 0], [0, 0], [0, 0]]"
      ]
     },
     "execution_count": 12,
     "metadata": {},
     "output_type": "execute_result"
    }
   ],
   "source": [
    "m=3\n",
    "n=2\n",
    "[[0 for i in range(n)]]*m"
   ]
  },
  {
   "cell_type": "markdown",
   "metadata": {},
   "source": [
    "字符串中最长的数字字符串和它的长度"
   ]
  },
  {
   "cell_type": "code",
   "execution_count": 11,
   "metadata": {
    "collapsed": false
   },
   "outputs": [],
   "source": [
    "a='abcd12345ed125ss123058789'\n",
    "maxLen, maxStrs, curLen, curStr = 0, [], 0, \"\"\n",
    "for i, v in enumerate(a):\n",
    "    if v.isdigit():\n",
    "        curLen += 1\n",
    "        curStr += v\n",
    "        if curLen > maxLen:\n",
    "            maxLen = curLen\n",
    "            maxStrs = [curStr]\n",
    "        elif curLen == maxLen:\n",
    "            maxStrs.append(curStr)\n",
    "    else:\n",
    "        curLen = 0\n",
    "        curStr = \"\""
   ]
  },
  {
   "cell_type": "markdown",
   "metadata": {},
   "source": [
    "传入一个int型数组，返回该数组能否分成两组，使得两组中各元素加起来的和相等，并且，所有5的倍数必须在其中一个组中，所有3的倍数在另一个组中（不包括5的倍数），能满足以上条件，返回true；不满足时返回false。"
   ]
  },
  {
   "cell_type": "code",
   "execution_count": null,
   "metadata": {
    "collapsed": true
   },
   "outputs": [],
   "source": []
  },
  {
   "cell_type": "code",
   "execution_count": null,
   "metadata": {
    "collapsed": true
   },
   "outputs": [],
   "source": [
    "while True:\n",
    "    try:\n",
    "        n = int(input())\n",
    "                \n",
    "    except:\n",
    "        break"
   ]
  },
  {
   "cell_type": "code",
   "execution_count": null,
   "metadata": {
    "collapsed": true
   },
   "outputs": [],
   "source": []
  }
 ],
 "metadata": {
  "kernelspec": {
   "display_name": "Python 3",
   "language": "python",
   "name": "python3"
  },
  "language_info": {
   "codemirror_mode": {
    "name": "ipython",
    "version": 3
   },
   "file_extension": ".py",
   "mimetype": "text/x-python",
   "name": "python",
   "nbconvert_exporter": "python",
   "pygments_lexer": "ipython3",
   "version": "3.6.0"
  }
 },
 "nbformat": 4,
 "nbformat_minor": 2
}
